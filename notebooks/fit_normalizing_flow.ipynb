{
 "cells": [
  {
   "cell_type": "code",
   "execution_count": 54,
   "metadata": {},
   "outputs": [],
   "source": [
    "import jammy_flows\n",
    "import h5py\n",
    "import matplotlib.pyplot as plt\n",
    "import seaborn as sns\n",
    "import torch\n",
    "from torch.utils.data import DataLoader, IterableDataset, random_split, TensorDataset\n",
    "from torch.optim import Adam \n",
    "import math\n",
    "import pandas as pd\n",
    "import numpy as np\n",
    "\n",
    "if torch.cuda.is_available:\n",
    "    device = torch.device(\"cuda\")\n",
    "else:\n",
    "    device = torch.device(\"cpu\")\n"
   ]
  },
  {
   "cell_type": "code",
   "execution_count": 107,
   "metadata": {},
   "outputs": [],
   "source": [
    "class HDF5PhotonTable(IterableDataset):\n",
    "    def __init__(self, filename, start, end):\n",
    "        super(HDF5PhotonTable).__init__()\n",
    "        assert end > start, \"end >= start\"\n",
    "        self._hdl = h5py.File(filename)\n",
    "        self.size = len(self._hdl[\"photon_tables\"].keys())\n",
    "        \n",
    "        self.start = start\n",
    "        self.end = min((self.size, end)) \n",
    "\n",
    "    def __len__(self):\n",
    "        return self.size\n",
    "\n",
    "    def __iter__(self):\n",
    "        worker_info = torch.utils.data.get_worker_info()\n",
    "        if worker_info is None:  # single-process data loading, return the full iterator\n",
    "            iter_start = self.start\n",
    "            iter_end = self.end\n",
    "        else:  # in a worker process\n",
    "            # split workload\n",
    "            per_worker = int(math.ceil((self.end - self.start) / float(worker_info.num_workers)))\n",
    "            worker_id = worker_info.id\n",
    "            iter_start = self.start + worker_id * per_worker\n",
    "            iter_end = min(iter_start + per_worker, self.end)\n",
    "\n",
    "        ds_groups = sorted(self._hdl[\"photon_tables\"].keys())\n",
    "        label_order = [\"distance\", \"energy\", \"dir_theta\", \"dir_phi\", \"pos_theta\", \"pos_phi\"]\n",
    "       \n",
    "        for i in range(iter_start, iter_end):\n",
    "            grp = ds_groups[i]\n",
    "            \n",
    "            data = self._hdl[\"photon_tables\"][grp][:]\n",
    "            pmt_encoding = torch.nn.functional.one_hot(torch.LongTensor(data[0] - 1), 16)\n",
    "\n",
    "            labels = torch.empty((data.shape[1], 16 + len(label_order)), dtype=torch.float64)\n",
    "            labels_d = dict(self._hdl[\"photon_tables\"][grp].attrs)\n",
    "            for i, label in enumerate(label_order):\n",
    "                labels[:, i] = labels_d[label]\n",
    "            \n",
    "            labels[:, len(label_order):] = pmt_encoding\n",
    "\n",
    "            yield torch.DoubleTensor(data[1]).to(device), labels.to(device)\n",
    "       \n",
    "    def __del__(self):\n",
    "        if hasattr(self, \"_hdl\"):\n",
    "            self._hdl.close()\n",
    "        \n",
    "\n",
    "def collate_fn(batch):\n",
    "    data = [item[0] for item in batch]\n",
    "    labels = [item[1] for item in batch]\n",
    "    return [data, labels]\n",
    "        "
   ]
  },
  {
   "cell_type": "code",
   "execution_count": 69,
   "metadata": {},
   "outputs": [],
   "source": [
    "def read_hdf(filename):\n",
    "    with h5py.File(filename) as hdl:\n",
    "        ds_groups = sorted(hdl[\"photon_tables\"].keys())\n",
    "        label_order = [\"distance\", \"energy\", \"dir_theta\", \"dir_phi\", \"pos_theta\", \"pos_phi\"]\n",
    "\n",
    "        all_data = []\n",
    "        all_labels = []\n",
    "        for grp in ds_groups:\n",
    "            labels_d = dict(hdl[\"photon_tables\"][grp].attrs)\n",
    "            labels = [labels_d[label] for label in label_order]\n",
    "            data = hdl[\"photon_tables\"][grp][:]\n",
    "\n",
    "            data = data[1, data[0, :] == 1]\n",
    "            labels = np.tile(labels, (len(data), 1))\n",
    "            labels[:, [0, 1]] = np.log10(labels[:, [0, 1]])\n",
    "            all_data.append(data)\n",
    "            all_labels.append(labels)\n",
    "\n",
    "    return np.concatenate(all_data), np.concatenate(all_labels)"
   ]
  },
  {
   "cell_type": "code",
   "execution_count": 108,
   "metadata": {},
   "outputs": [],
   "source": [
    "train_dataset = HDF5PhotonTable(\"../assets/photon_table.hd5\", 0, 70)\n",
    "test_dataset = HDF5PhotonTable(\"../assets/photon_table.hd5\", 70, 100)\n",
    "\n",
    "\n",
    "train_loader = DataLoader(train_dataset, batch_size=10, collate_fn=collate_fn)\n",
    "test_loader= DataLoader(test_dataset, batch_size=10, collate_fn=collate_fn)\n"
   ]
  },
  {
   "cell_type": "code",
   "execution_count": 122,
   "metadata": {},
   "outputs": [
    {
     "name": "stdout",
     "output_type": "stream",
     "text": [
      "Epoch: 0  Loss Train: 1060.02  Loss Test: 1.78\n",
      "Epoch: 1  Loss Train: 5.18  Loss Test: 2.32\n",
      "Epoch: 2  Loss Train: 4.94  Loss Test: 1.99\n",
      "Epoch: 3  Loss Train: 4.41  Loss Test: 1.81\n",
      "Epoch: 4  Loss Train: 4.07  Loss Test: 1.60\n",
      "Epoch: 5  Loss Train: 4.11  Loss Test: 1.67\n",
      "Epoch: 6  Loss Train: 3.60  Loss Test: 1.37\n",
      "Epoch: 7  Loss Train: 2.98  Loss Test: 1.67\n",
      "Epoch: 8  Loss Train: 3.65  Loss Test: 1.45\n",
      "Epoch: 9  Loss Train: 3.24  Loss Test: 1.32\n",
      "Epoch: 10  Loss Train: 2.90  Loss Test: 1.19\n",
      "Epoch: 11  Loss Train: 2.67  Loss Test: 1.12\n",
      "Epoch: 12  Loss Train: 2.59  Loss Test: 1.13\n",
      "Epoch: 13  Loss Train: 2.59  Loss Test: 1.09\n",
      "Epoch: 14  Loss Train: 2.54  Loss Test: 1.09\n",
      "Epoch: 15  Loss Train: 2.59  Loss Test: 1.11\n",
      "Epoch: 16  Loss Train: 2.55  Loss Test: 1.07\n",
      "Epoch: 17  Loss Train: 2.52  Loss Test: 1.07\n",
      "Epoch: 18  Loss Train: 2.50  Loss Test: 1.07\n",
      "Epoch: 19  Loss Train: 2.49  Loss Test: 1.06\n",
      "Epoch: 20  Loss Train: 2.49  Loss Test: 1.06\n",
      "Epoch: 21  Loss Train: 2.48  Loss Test: 1.06\n",
      "Epoch: 22  Loss Train: 2.48  Loss Test: 1.06\n",
      "Epoch: 23  Loss Train: 2.48  Loss Test: 1.06\n",
      "Epoch: 24  Loss Train: 2.47  Loss Test: 1.06\n",
      "Epoch: 25  Loss Train: 2.47  Loss Test: 1.05\n",
      "Epoch: 26  Loss Train: 2.47  Loss Test: 1.06\n",
      "Epoch: 27  Loss Train: 2.38  Loss Test: 1.00\n",
      "Epoch: 28  Loss Train: 2.30  Loss Test: 0.97\n",
      "Epoch: 29  Loss Train: 2.28  Loss Test: 0.97\n",
      "Epoch: 30  Loss Train: 2.26  Loss Test: 0.97\n",
      "Epoch: 31  Loss Train: 2.29  Loss Test: 1.00\n",
      "Epoch: 32  Loss Train: 2.30  Loss Test: 0.98\n",
      "Epoch: 33  Loss Train: 2.28  Loss Test: 0.97\n",
      "Epoch: 34  Loss Train: 2.26  Loss Test: 0.97\n",
      "Epoch: 35  Loss Train: 2.25  Loss Test: 0.97\n",
      "Epoch: 36  Loss Train: 2.25  Loss Test: 0.96\n",
      "Epoch: 37  Loss Train: 2.25  Loss Test: 0.97\n",
      "Epoch: 38  Loss Train: 2.25  Loss Test: 0.97\n",
      "Epoch: 39  Loss Train: 2.26  Loss Test: 0.97\n",
      "Epoch: 40  Loss Train: 2.26  Loss Test: 0.96\n",
      "Epoch: 41  Loss Train: 2.26  Loss Test: 1.00\n",
      "Epoch: 42  Loss Train: 2.51  Loss Test: 1.10\n",
      "Epoch: 43  Loss Train: 2.68  Loss Test: 1.03\n",
      "Epoch: 44  Loss Train: 2.40  Loss Test: 0.99\n",
      "Epoch: 45  Loss Train: 2.38  Loss Test: 1.01\n",
      "Epoch: 46  Loss Train: 2.36  Loss Test: 1.12\n",
      "Epoch: 47  Loss Train: 2.55  Loss Test: 1.06\n",
      "Epoch: 48  Loss Train: 2.40  Loss Test: 0.99\n",
      "Epoch: 49  Loss Train: 2.32  Loss Test: 0.98\n",
      "Epoch: 50  Loss Train: 2.30  Loss Test: 0.98\n",
      "Epoch: 51  Loss Train: 2.30  Loss Test: 0.98\n",
      "Epoch: 52  Loss Train: 2.27  Loss Test: 0.97\n",
      "Epoch: 53  Loss Train: 2.26  Loss Test: 0.97\n",
      "Epoch: 54  Loss Train: 2.25  Loss Test: 0.97\n",
      "Epoch: 55  Loss Train: 2.25  Loss Test: 0.97\n",
      "Epoch: 56  Loss Train: 2.26  Loss Test: 0.97\n",
      "Epoch: 57  Loss Train: 2.26  Loss Test: 0.97\n",
      "Epoch: 58  Loss Train: 2.26  Loss Test: 0.96\n",
      "Epoch: 59  Loss Train: 2.27  Loss Test: 0.97\n",
      "Epoch: 60  Loss Train: 2.26  Loss Test: 0.96\n",
      "Epoch: 61  Loss Train: 2.26  Loss Test: 0.96\n",
      "Epoch: 62  Loss Train: 2.27  Loss Test: 0.97\n",
      "Epoch: 63  Loss Train: 2.26  Loss Test: 0.96\n",
      "Epoch: 64  Loss Train: 2.26  Loss Test: 0.97\n",
      "Epoch: 65  Loss Train: 2.27  Loss Test: 0.97\n",
      "Epoch: 66  Loss Train: 2.27  Loss Test: 0.96\n",
      "Epoch: 67  Loss Train: 2.27  Loss Test: 0.97\n",
      "Epoch: 68  Loss Train: 2.27  Loss Test: 0.96\n",
      "Epoch: 69  Loss Train: 2.27  Loss Test: 0.97\n",
      "Epoch: 70  Loss Train: 2.26  Loss Test: 0.96\n",
      "Epoch: 71  Loss Train: 2.27  Loss Test: 0.97\n",
      "Epoch: 72  Loss Train: 2.27  Loss Test: 0.96\n",
      "Epoch: 73  Loss Train: 2.27  Loss Test: 0.97\n",
      "Epoch: 74  Loss Train: 2.27  Loss Test: 1.00\n",
      "Epoch: 75  Loss Train: 2.32  Loss Test: 1.03\n",
      "Epoch: 76  Loss Train: 2.40  Loss Test: 1.04\n",
      "Epoch: 77  Loss Train: 2.55  Loss Test: 1.10\n",
      "Epoch: 78  Loss Train: 2.99  Loss Test: 1.40\n",
      "Epoch: 79  Loss Train: 3.16  Loss Test: 1.19\n",
      "Epoch: 80  Loss Train: 2.98  Loss Test: 1.19\n",
      "Epoch: 81  Loss Train: 2.87  Loss Test: 1.20\n",
      "Epoch: 82  Loss Train: 2.82  Loss Test: 1.21\n",
      "Epoch: 83  Loss Train: 2.79  Loss Test: 1.20\n",
      "Epoch: 84  Loss Train: 2.78  Loss Test: 1.19\n",
      "Epoch: 85  Loss Train: 2.77  Loss Test: 1.18\n",
      "Epoch: 86  Loss Train: 2.76  Loss Test: 1.18\n",
      "Epoch: 87  Loss Train: 2.76  Loss Test: 1.18\n",
      "Epoch: 88  Loss Train: 2.75  Loss Test: 1.18\n",
      "Epoch: 89  Loss Train: 2.75  Loss Test: 1.18\n",
      "Epoch: 90  Loss Train: 2.74  Loss Test: 1.17\n",
      "Epoch: 91  Loss Train: 2.74  Loss Test: 1.17\n",
      "Epoch: 92  Loss Train: 2.70  Loss Test: 1.14\n",
      "Epoch: 93  Loss Train: 2.65  Loss Test: 1.13\n",
      "Epoch: 94  Loss Train: 2.62  Loss Test: 1.11\n",
      "Epoch: 95  Loss Train: 2.53  Loss Test: 1.03\n",
      "Epoch: 96  Loss Train: 2.34  Loss Test: 0.98\n",
      "Epoch: 97  Loss Train: 2.33  Loss Test: 0.98\n",
      "Epoch: 98  Loss Train: 2.28  Loss Test: 0.98\n",
      "Epoch: 99  Loss Train: 2.28  Loss Test: 0.97\n"
     ]
    }
   ],
   "source": [
    "pdf = jammy_flows.pdf(\"e1\", \"gggg\", conditional_input_dim=16+6).to(device)\n",
    "optim = Adam(pdf.parameters(), lr=0.01)\n",
    "\n",
    "for epoch in range(100):\n",
    "    loss = 0\n",
    "    for (times, labels) in train_loader:\n",
    "        optim.zero_grad()\n",
    "\n",
    "        times = torch.concat(times)\n",
    "        labels = torch.concat(labels)\n",
    "\n",
    "        log_pdf, _, _ = pdf(times[:, np.newaxis], conditional_input=labels)\n",
    "        neg_log_loss = -log_pdf.mean()\n",
    "        neg_log_loss.backward()\n",
    "        optim.step()\n",
    "        loss += neg_log_loss.detach()\n",
    "    loss /= len(train_loader)\n",
    "    \n",
    "\n",
    "    loss_test = 0\n",
    "    for (times, labels) in test_loader:\n",
    "        times = torch.concat(times)\n",
    "        labels = torch.concat(labels)\n",
    "\n",
    "        log_pdf, _, _ = pdf(times[:, np.newaxis], conditional_input=labels)\n",
    "        loss_test += -log_pdf.mean()\n",
    "    \n",
    "    loss_test /= len(test_loader)\n",
    "\n",
    "    \n",
    "    print(f\"Epoch: {epoch:d}  Loss Train: {loss:.2f}  Loss Test: {loss_test:.2f}\")\n",
    "\n"
   ]
  },
  {
   "cell_type": "code",
   "execution_count": 123,
   "metadata": {},
   "outputs": [],
   "source": [
    "test_times, test_labels = next(iter(test_dataset))\n",
    "\n",
    "logpdf, _, _ = pdf(test_times[:, np.newaxis], conditional_input=test_labels)\n"
   ]
  },
  {
   "cell_type": "code",
   "execution_count": 132,
   "metadata": {},
   "outputs": [],
   "source": [
    "mask = test_labels[:, 18] == 1"
   ]
  },
  {
   "cell_type": "code",
   "execution_count": 133,
   "metadata": {},
   "outputs": [
    {
     "data": {
      "text/plain": [
       "<AxesSubplot:ylabel='Density'>"
      ]
     },
     "execution_count": 133,
     "metadata": {},
     "output_type": "execute_result"
    },
    {
     "data": {
      "image/png": "[encoded data removed]",
      "text/plain": [
       "<Figure size 432x288 with 1 Axes>"
      ]
     },
     "metadata": {
      "needs_background": "light"
     },
     "output_type": "display_data"
    }
   ],
   "source": [
    "plt.scatter(test_times[mask].detach().cpu(), np.exp(logpdf[mask].detach().cpu()))\n",
    "sns.histplot(test_times[mask].detach().cpu(), stat=\"density\")"
   ]
  },
  {
   "cell_type": "code",
   "execution_count": 29,
   "metadata": {},
   "outputs": [
    {
     "data": {
      "text/plain": [
       "<AxesSubplot:ylabel='Density'>"
      ]
     },
     "execution_count": 29,
     "metadata": {},
     "output_type": "execute_result"
    },
    {
     "data": {
      "image/png": "[encoded data removed]",
      "text/plain": [
       "<Figure size 432x288 with 1 Axes>"
      ]
     },
     "metadata": {
      "needs_background": "light"
     },
     "output_type": "display_data"
    }
   ],
   "source": [
    "plt.scatter(test_per_pmt[:].detach().cpu(), np.exp(logpdf.detach().cpu()))\n",
    "sns.histplot(test_per_pmt[:].detach().cpu(), stat=\"density\")"
   ]
  },
  {
   "cell_type": "code",
   "execution_count": 34,
   "metadata": {},
   "outputs": [
    {
     "ename": "ValueError",
     "evalue": "Shape of passed values is (2, 5126), indices imply (2, 2)",
     "output_type": "error",
     "traceback": [
      "\u001b[0;31m---------------------------------------------------------------------------\u001b[0m",
      "\u001b[0;31mValueError\u001b[0m                                Traceback (most recent call last)",
      "\u001b[1;32m/home/chrhck/.julia/dev/NeutrinoTelescopes/notebooks/fit_normalizing_flow.ipynb Cell 4\u001b[0m in \u001b[0;36m<cell line: 1>\u001b[0;34m()\u001b[0m\n\u001b[0;32m----> <a href='vscode-notebook-cell:/home/chrhck/.julia/dev/NeutrinoTelescopes/notebooks/fit_normalizing_flow.ipynb#ch0000002?line=0'>1</a>\u001b[0m labels, features \u001b[39m=\u001b[39m \u001b[39mnext\u001b[39;49m(\u001b[39miter\u001b[39;49m(dl))\n",
      "File \u001b[0;32m~/.local/lib/python3.10/site-packages/torch/utils/data/dataloader.py:681\u001b[0m, in \u001b[0;36m_BaseDataLoaderIter.__next__\u001b[0;34m(self)\u001b[0m\n\u001b[1;32m    678\u001b[0m \u001b[39mif\u001b[39;00m \u001b[39mself\u001b[39m\u001b[39m.\u001b[39m_sampler_iter \u001b[39mis\u001b[39;00m \u001b[39mNone\u001b[39;00m:\n\u001b[1;32m    679\u001b[0m     \u001b[39m# TODO(https://github.com/pytorch/pytorch/issues/76750)\u001b[39;00m\n\u001b[1;32m    680\u001b[0m     \u001b[39mself\u001b[39m\u001b[39m.\u001b[39m_reset()  \u001b[39m# type: ignore[call-arg]\u001b[39;00m\n\u001b[0;32m--> 681\u001b[0m data \u001b[39m=\u001b[39m \u001b[39mself\u001b[39;49m\u001b[39m.\u001b[39;49m_next_data()\n\u001b[1;32m    682\u001b[0m \u001b[39mself\u001b[39m\u001b[39m.\u001b[39m_num_yielded \u001b[39m+\u001b[39m\u001b[39m=\u001b[39m \u001b[39m1\u001b[39m\n\u001b[1;32m    683\u001b[0m \u001b[39mif\u001b[39;00m \u001b[39mself\u001b[39m\u001b[39m.\u001b[39m_dataset_kind \u001b[39m==\u001b[39m _DatasetKind\u001b[39m.\u001b[39mIterable \u001b[39mand\u001b[39;00m \\\n\u001b[1;32m    684\u001b[0m         \u001b[39mself\u001b[39m\u001b[39m.\u001b[39m_IterableDataset_len_called \u001b[39mis\u001b[39;00m \u001b[39mnot\u001b[39;00m \u001b[39mNone\u001b[39;00m \u001b[39mand\u001b[39;00m \\\n\u001b[1;32m    685\u001b[0m         \u001b[39mself\u001b[39m\u001b[39m.\u001b[39m_num_yielded \u001b[39m>\u001b[39m \u001b[39mself\u001b[39m\u001b[39m.\u001b[39m_IterableDataset_len_called:\n",
      "File \u001b[0;32m~/.local/lib/python3.10/site-packages/torch/utils/data/dataloader.py:721\u001b[0m, in \u001b[0;36m_SingleProcessDataLoaderIter._next_data\u001b[0;34m(self)\u001b[0m\n\u001b[1;32m    719\u001b[0m \u001b[39mdef\u001b[39;00m \u001b[39m_next_data\u001b[39m(\u001b[39mself\u001b[39m):\n\u001b[1;32m    720\u001b[0m     index \u001b[39m=\u001b[39m \u001b[39mself\u001b[39m\u001b[39m.\u001b[39m_next_index()  \u001b[39m# may raise StopIteration\u001b[39;00m\n\u001b[0;32m--> 721\u001b[0m     data \u001b[39m=\u001b[39m \u001b[39mself\u001b[39;49m\u001b[39m.\u001b[39;49m_dataset_fetcher\u001b[39m.\u001b[39;49mfetch(index)  \u001b[39m# may raise StopIteration\u001b[39;00m\n\u001b[1;32m    722\u001b[0m     \u001b[39mif\u001b[39;00m \u001b[39mself\u001b[39m\u001b[39m.\u001b[39m_pin_memory:\n\u001b[1;32m    723\u001b[0m         data \u001b[39m=\u001b[39m _utils\u001b[39m.\u001b[39mpin_memory\u001b[39m.\u001b[39mpin_memory(data, \u001b[39mself\u001b[39m\u001b[39m.\u001b[39m_pin_memory_device)\n",
      "File \u001b[0;32m~/.local/lib/python3.10/site-packages/torch/utils/data/_utils/fetch.py:32\u001b[0m, in \u001b[0;36m_IterableDatasetFetcher.fetch\u001b[0;34m(self, possibly_batched_index)\u001b[0m\n\u001b[1;32m     30\u001b[0m \u001b[39mfor\u001b[39;00m _ \u001b[39min\u001b[39;00m possibly_batched_index:\n\u001b[1;32m     31\u001b[0m     \u001b[39mtry\u001b[39;00m:\n\u001b[0;32m---> 32\u001b[0m         data\u001b[39m.\u001b[39mappend(\u001b[39mnext\u001b[39;49m(\u001b[39mself\u001b[39;49m\u001b[39m.\u001b[39;49mdataset_iter))\n\u001b[1;32m     33\u001b[0m     \u001b[39mexcept\u001b[39;00m \u001b[39mStopIteration\u001b[39;00m:\n\u001b[1;32m     34\u001b[0m         \u001b[39mself\u001b[39m\u001b[39m.\u001b[39mended \u001b[39m=\u001b[39m \u001b[39mTrue\u001b[39;00m\n",
      "\u001b[1;32m/home/chrhck/.julia/dev/NeutrinoTelescopes/notebooks/fit_normalizing_flow.ipynb Cell 4\u001b[0m in \u001b[0;36mHDF5PhotonTable.__iter__\u001b[0;34m(self)\u001b[0m\n\u001b[1;32m     <a href='vscode-notebook-cell:/home/chrhck/.julia/dev/NeutrinoTelescopes/notebooks/fit_normalizing_flow.ipynb#ch0000002?line=27'>28</a>\u001b[0m grp \u001b[39m=\u001b[39m ds_groups[i]\n\u001b[1;32m     <a href='vscode-notebook-cell:/home/chrhck/.julia/dev/NeutrinoTelescopes/notebooks/fit_normalizing_flow.ipynb#ch0000002?line=28'>29</a>\u001b[0m labels \u001b[39m=\u001b[39m \u001b[39mdict\u001b[39m(\u001b[39mself\u001b[39m\u001b[39m.\u001b[39m_hdl[\u001b[39m\"\u001b[39m\u001b[39mphoton_tables\u001b[39m\u001b[39m\"\u001b[39m][grp]\u001b[39m.\u001b[39mattrs)\n\u001b[0;32m---> <a href='vscode-notebook-cell:/home/chrhck/.julia/dev/NeutrinoTelescopes/notebooks/fit_normalizing_flow.ipynb#ch0000002?line=30'>31</a>\u001b[0m df \u001b[39m=\u001b[39m pd\u001b[39m.\u001b[39;49mDataFrame(\u001b[39mself\u001b[39;49m\u001b[39m.\u001b[39;49m_hdl[\u001b[39m\"\u001b[39;49m\u001b[39mphoton_tables\u001b[39;49m\u001b[39m\"\u001b[39;49m][grp][:], columns\u001b[39m=\u001b[39;49m[\u001b[39m\"\u001b[39;49m\u001b[39mpmt_id\u001b[39;49m\u001b[39m\"\u001b[39;49m, \u001b[39m\"\u001b[39;49m\u001b[39mtime\u001b[39;49m\u001b[39m\"\u001b[39;49m])            \n\u001b[1;32m     <a href='vscode-notebook-cell:/home/chrhck/.julia/dev/NeutrinoTelescopes/notebooks/fit_normalizing_flow.ipynb#ch0000002?line=31'>32</a>\u001b[0m grpd \u001b[39m=\u001b[39m df\u001b[39m.\u001b[39mgroupby(\u001b[39m\"\u001b[39m\u001b[39mpmt_id\u001b[39m\u001b[39m\"\u001b[39m)\n\u001b[1;32m     <a href='vscode-notebook-cell:/home/chrhck/.julia/dev/NeutrinoTelescopes/notebooks/fit_normalizing_flow.ipynb#ch0000002?line=33'>34</a>\u001b[0m \u001b[39myield\u001b[39;00m labels, [grpd[i][\u001b[39m\"\u001b[39m\u001b[39mtime\u001b[39m\u001b[39m\"\u001b[39m]\u001b[39m.\u001b[39mvalues \u001b[39mif\u001b[39;00m i \u001b[39min\u001b[39;00m grpd \u001b[39melse\u001b[39;00m [] \u001b[39mfor\u001b[39;00m i \u001b[39min\u001b[39;00m \u001b[39mrange\u001b[39m(\u001b[39m1\u001b[39m, \u001b[39m17\u001b[39m) ]\n",
      "File \u001b[0;32m/usr/lib/python3/dist-packages/pandas/core/frame.py:672\u001b[0m, in \u001b[0;36mDataFrame.__init__\u001b[0;34m(self, data, index, columns, dtype, copy)\u001b[0m\n\u001b[1;32m    662\u001b[0m         mgr \u001b[39m=\u001b[39m dict_to_mgr(\n\u001b[1;32m    663\u001b[0m             \u001b[39m# error: Item \"ndarray\" of \"Union[ndarray, Series, Index]\" has no\u001b[39;00m\n\u001b[1;32m    664\u001b[0m             \u001b[39m# attribute \"name\"\u001b[39;00m\n\u001b[0;32m   (...)\u001b[0m\n\u001b[1;32m    669\u001b[0m             typ\u001b[39m=\u001b[39mmanager,\n\u001b[1;32m    670\u001b[0m         )\n\u001b[1;32m    671\u001b[0m     \u001b[39melse\u001b[39;00m:\n\u001b[0;32m--> 672\u001b[0m         mgr \u001b[39m=\u001b[39m ndarray_to_mgr(\n\u001b[1;32m    673\u001b[0m             data,\n\u001b[1;32m    674\u001b[0m             index,\n\u001b[1;32m    675\u001b[0m             columns,\n\u001b[1;32m    676\u001b[0m             dtype\u001b[39m=\u001b[39;49mdtype,\n\u001b[1;32m    677\u001b[0m             copy\u001b[39m=\u001b[39;49mcopy,\n\u001b[1;32m    678\u001b[0m             typ\u001b[39m=\u001b[39;49mmanager,\n\u001b[1;32m    679\u001b[0m         )\n\u001b[1;32m    681\u001b[0m \u001b[39m# For data is list-like, or Iterable (will consume into list)\u001b[39;00m\n\u001b[1;32m    682\u001b[0m \u001b[39melif\u001b[39;00m is_list_like(data):\n",
      "File \u001b[0;32m/usr/lib/python3/dist-packages/pandas/core/internals/construction.py:324\u001b[0m, in \u001b[0;36mndarray_to_mgr\u001b[0;34m(values, index, columns, dtype, copy, typ)\u001b[0m\n\u001b[1;32m    319\u001b[0m \u001b[39m# _prep_ndarray ensures that values.ndim == 2 at this point\u001b[39;00m\n\u001b[1;32m    320\u001b[0m index, columns \u001b[39m=\u001b[39m _get_axes(\n\u001b[1;32m    321\u001b[0m     values\u001b[39m.\u001b[39mshape[\u001b[39m0\u001b[39m], values\u001b[39m.\u001b[39mshape[\u001b[39m1\u001b[39m], index\u001b[39m=\u001b[39mindex, columns\u001b[39m=\u001b[39mcolumns\n\u001b[1;32m    322\u001b[0m )\n\u001b[0;32m--> 324\u001b[0m _check_values_indices_shape_match(values, index, columns)\n\u001b[1;32m    326\u001b[0m \u001b[39mif\u001b[39;00m typ \u001b[39m==\u001b[39m \u001b[39m\"\u001b[39m\u001b[39marray\u001b[39m\u001b[39m\"\u001b[39m:\n\u001b[1;32m    328\u001b[0m     \u001b[39mif\u001b[39;00m \u001b[39missubclass\u001b[39m(values\u001b[39m.\u001b[39mdtype\u001b[39m.\u001b[39mtype, \u001b[39mstr\u001b[39m):\n",
      "File \u001b[0;32m/usr/lib/python3/dist-packages/pandas/core/internals/construction.py:393\u001b[0m, in \u001b[0;36m_check_values_indices_shape_match\u001b[0;34m(values, index, columns)\u001b[0m\n\u001b[1;32m    391\u001b[0m passed \u001b[39m=\u001b[39m values\u001b[39m.\u001b[39mshape\n\u001b[1;32m    392\u001b[0m implied \u001b[39m=\u001b[39m (\u001b[39mlen\u001b[39m(index), \u001b[39mlen\u001b[39m(columns))\n\u001b[0;32m--> 393\u001b[0m \u001b[39mraise\u001b[39;00m \u001b[39mValueError\u001b[39;00m(\u001b[39mf\u001b[39m\u001b[39m\"\u001b[39m\u001b[39mShape of passed values is \u001b[39m\u001b[39m{\u001b[39;00mpassed\u001b[39m}\u001b[39;00m\u001b[39m, indices imply \u001b[39m\u001b[39m{\u001b[39;00mimplied\u001b[39m}\u001b[39;00m\u001b[39m\"\u001b[39m)\n",
      "\u001b[0;31mValueError\u001b[0m: Shape of passed values is (2, 5126), indices imply (2, 2)"
     ]
    }
   ],
   "source": [
    "labels, features = next(iter(dl))"
   ]
  },
  {
   "cell_type": "code",
   "execution_count": 9,
   "metadata": {},
   "outputs": [],
   "source": [
    "pdf=jammy_flows.pdf(\"e1\", \"gggg\")"
   ]
  },
  {
   "cell_type": "code",
   "execution_count": 8,
   "metadata": {},
   "outputs": [
    {
     "data": {
      "text/plain": [
       "<KeysViewHDF5 ['dataset_1', 'dataset_10', 'dataset_11', 'dataset_12', 'dataset_2', 'dataset_3', 'dataset_4', 'dataset_5', 'dataset_6', 'dataset_7', 'dataset_8', 'dataset_9']>"
      ]
     },
     "execution_count": 8,
     "metadata": {},
     "output_type": "execute_result"
    }
   ],
   "source": []
  },
  {
   "cell_type": "code",
   "execution_count": 29,
   "metadata": {},
   "outputs": [
    {
     "name": "stdout",
     "output_type": "stream",
     "text": [
      "[ 1.       66.140045]\n"
     ]
    }
   ],
   "source": [
    "with h5py.File(\"../assets/photon_table.hd5\") as hdl:\n",
    "    print(hdl[\"photon_tables/dataset_1\"][:, 0])"
   ]
  },
  {
   "cell_type": "code",
   "execution_count": null,
   "metadata": {},
   "outputs": [],
   "source": []
  }
 ],
 "metadata": {
  "kernelspec": {
   "display_name": "Python 3.10.4 64-bit",
   "language": "python",
   "name": "python3"
  },
  "language_info": {
   "codemirror_mode": {
    "name": "ipython",
    "version": 3
   },
   "file_extension": ".py",
   "mimetype": "text/x-python",
   "name": "python",
   "nbconvert_exporter": "python",
   "pygments_lexer": "ipython3",
   "version": "3.10.6"
  },
  "orig_nbformat": 4,
  "vscode": {
   "interpreter": {
    "hash": "916dbcbb3f70747c44a77c7bcd40155683ae19c65e1c03b4aa3499c5328201f1"
   }
  }
 },
 "nbformat": 4,
 "nbformat_minor": 2
}
