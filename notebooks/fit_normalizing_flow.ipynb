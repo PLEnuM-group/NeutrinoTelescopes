{
 "cells": [
  {
   "cell_type": "code",
   "execution_count": 154,
   "metadata": {},
   "outputs": [],
   "source": [
    "import jammy_flows\n",
    "import h5py\n",
    "import matplotlib.pyplot as plt\n",
    "import seaborn as sns\n",
    "import torch\n",
    "from torch.utils.data import DataLoader, Dataset, random_split, TensorDataset\n",
    "from torch.optim import Adam \n",
    "import math\n",
    "import pandas as pd\n",
    "import numpy as np\n",
    "from torch.utils.tensorboard import SummaryWriter\n",
    "\n",
    "if torch.cuda.is_available:\n",
    "    device = torch.device(\"cuda\")\n",
    "else:\n",
    "    device = torch.device(\"cpu\")\n"
   ]
  },
  {
   "cell_type": "code",
   "execution_count": 149,
   "metadata": {},
   "outputs": [],
   "source": [
    "class HDF5PhotonTable(Dataset):\n",
    "    def __init__(self, filename, start, end=-1):\n",
    "        super(HDF5PhotonTable).__init__()\n",
    "        self._hdl = h5py.File(filename)\n",
    "       \n",
    "        ds_groups = sorted(self._hdl[\"photon_tables\"].keys())\n",
    "        label_order = [\"distance\", \"energy\", \"dir_theta\", \"dir_phi\", \"pos_theta\", \"pos_phi\"]\n",
    "       \n",
    "        self.data = []\n",
    "        self.weights = []\n",
    "        self.labels = []\n",
    "\n",
    "        if end==-1:\n",
    "            end = len(ds_groups)\n",
    "        \n",
    "\n",
    "        for i in range(start, end):\n",
    "            grp = ds_groups[i]\n",
    "            \n",
    "            data = self._hdl[\"photon_tables\"][grp][:]\n",
    "\n",
    "            data_df = pd.DataFrame(data.T, columns=[\"time\", \"pmt_id\", \"weight\"])\n",
    "            data_df = data_df.loc[data_df[\"weight\"] > 0]\n",
    "\n",
    "\n",
    "            if len(data_df) > 1000:\n",
    "                data_df = data_df.sample(1000)\n",
    "\n",
    "\n",
    "\n",
    "            data_df[\"weight\"] = data_df.groupby(\"pmt_id\")[\"weight\"].transform(lambda x: x / x.sum())\n",
    "            data = data_df.to_numpy()\n",
    "\n",
    "            pmt_encoding = torch.nn.functional.one_hot(torch.LongTensor(data[:, 1] - 1), 16)\n",
    "\n",
    "            labels = torch.empty((data.shape[0], 16 + len(label_order)), dtype=torch.float64)\n",
    "            labels_d = dict(self._hdl[\"photon_tables\"][grp].attrs)\n",
    "            for i, label in enumerate(label_order):\n",
    "                labels[:, i] = labels_d[label]\n",
    "\n",
    "            #time_res = torch.DoubleTensor(data[:, 0]) - labels[:, 0] / (0.25)\n",
    "            labels[:, len(label_order):] = pmt_encoding\n",
    "            \n",
    "            labels[:, 0] = np.log10(labels[:, 0])\n",
    "            labels[:, 1] = np.log10(labels[:, 1])\n",
    "\n",
    "            self.data.append(torch.DoubleTensor(data[:, 0]))\n",
    "            self.weights.append(torch.DoubleTensor(data[:, 2]))\n",
    "            self.labels.append(labels)\n",
    "        \n",
    "        self.data = torch.concat(self.data)\n",
    "        self.weights = torch.concat(self.weights)\n",
    "        self.labels = torch.concat(self.labels)\n",
    "\n",
    "    def __len__(self):\n",
    "        return self.data.shape[0]\n",
    "\n",
    "    def __getitem__(self, key):\n",
    "        return self.data[key], self.weights[key], self.labels[key]\n",
    "\n",
    "\n",
    "class HDF5PhotonTableUnWeighted(Dataset):\n",
    "    def __init__(self, filename, start, end=-1):\n",
    "        super(HDF5PhotonTable).__init__()\n",
    "        self._hdl = h5py.File(filename)\n",
    "       \n",
    "        ds_groups = sorted(self._hdl[\"photon_tables\"].keys())\n",
    "        label_order = [\"distance\", \"energy\", \"dir_theta\", \"dir_phi\", \"pos_theta\", \"pos_phi\"]\n",
    "       \n",
    "        self.data = []\n",
    "        self.labels = []\n",
    "\n",
    "        if end==-1:\n",
    "            end = len(ds_groups)\n",
    "        \n",
    "\n",
    "        for i in range(start, end):\n",
    "            grp = ds_groups[i]\n",
    "            \n",
    "            data = self._hdl[\"photon_tables\"][grp][:]\n",
    "\n",
    "            pmt_encoding = torch.nn.functional.one_hot(torch.LongTensor(data[0] - 1), 16)\n",
    "\n",
    "            labels = torch.empty((data.shape[1], 16 + len(label_order)), dtype=torch.float64)\n",
    "            labels_d = dict(self._hdl[\"photon_tables\"][grp].attrs)\n",
    "            for i, label in enumerate(label_order):\n",
    "                labels[:, i] = labels_d[label]\n",
    "\n",
    "            #time_res = torch.DoubleTensor(data[:, 0]) - labels[:, 0] / (0.25)\n",
    "            labels[:, len(label_order):] = pmt_encoding\n",
    "            \n",
    "            labels[:, 0] = np.log10(labels[:, 0])\n",
    "            labels[:, 1] = np.log10(labels[:, 1])\n",
    "\n",
    "            self.data.append(torch.DoubleTensor(data[0]))\n",
    "            self.labels.append(labels)\n",
    "        \n",
    "        self.data = torch.concat(self.data)\n",
    "        self.labels = torch.concat(self.labels)\n",
    "\n",
    "    def __len__(self):\n",
    "        return self.data.shape[0]\n",
    "\n",
    "    def __getitem__(self, key):\n",
    "        return self.data[key], self.labels[key]\n",
    "\n",
    "    \"\"\"\n",
    "    def __iter__(self):\n",
    "        worker_info = torch.utils.data.get_worker_info()\n",
    "        if worker_info is None:  # single-process data loading, return the full iterator\n",
    "            iter_start = self.start\n",
    "            iter_end = self.end\n",
    "        else:  # in a worker process\n",
    "            # split workload\n",
    "            per_worker = int(math.ceil((self.end - self.start) / float(worker_info.num_workers)))\n",
    "            worker_id = worker_info.id\n",
    "            iter_start = self.start + worker_id * per_worker\n",
    "            iter_end = min(iter_start + per_worker, self.end)\n",
    "\n",
    "        ds_groups = sorted(self._hdl[\"photon_tables\"].keys())\n",
    "        label_order = [\"distance\", \"energy\", \"dir_theta\", \"dir_phi\", \"pos_theta\", \"pos_phi\"]\n",
    "       \n",
    "        for i in range(iter_start, iter_end):\n",
    "            grp = ds_groups[i]\n",
    "            \n",
    "            data = self._hdl[\"photon_tables\"][grp][:]\n",
    "            pmt_encoding = torch.nn.functional.one_hot(torch.LongTensor(data[1] - 1), 16)\n",
    "\n",
    "            labels = torch.empty((data.shape[1], 16 + len(label_order)), dtype=torch.float64)\n",
    "            labels_d = dict(self._hdl[\"photon_tables\"][grp].attrs)\n",
    "            for i, label in enumerate(label_order):\n",
    "                labels[:, i] = labels_d[label]\n",
    "            \n",
    "            labels[:, len(label_order):] = pmt_encoding\n",
    "\n",
    "            yield torch.DoubleTensor(data[0]).to(device), torch.DoubleTensor(data[2]).to(device), labels.to(device)\n",
    "    \"\"\"\n",
    "        "
   ]
  },
  {
   "cell_type": "code",
   "execution_count": 170,
   "metadata": {},
   "outputs": [],
   "source": [
    "def read_table_hdf(fname, ix):\n",
    "    with h5py.File(fname) as hdl:\n",
    "        ds_groups = sorted(hdl[\"photon_tables\"].keys())\n",
    "        label_order = [\"distance\", \"energy\", \"dir_theta\", \"dir_phi\", \"pos_theta\", \"pos_phi\"]\n",
    "        grp = ds_groups[ix]\n",
    "                \n",
    "        data = hdl[\"photon_tables\"][grp][:]\n",
    "\n",
    "        data_df = pd.DataFrame(data.T, columns=[\"time\", \"pmt_id\", \"weight\"])\n",
    "        data_df = data_df.loc[data_df[\"weight\"] > 0]\n",
    "\n",
    "        data_df[\"weight\"] = data_df.groupby(\"pmt_id\")[\"weight\"].transform(lambda x: x / x.sum())\n",
    "\n",
    "        \n",
    "        labels_d = dict(hdl[\"photon_tables\"][grp].attrs)\n",
    "        \n",
    "    return data_df, labels_d\n",
    "\n",
    "def read_table_hdf_unweighted(fname, ix):\n",
    "    with h5py.File(fname) as hdl:\n",
    "        ds_groups = sorted(hdl[\"photon_tables\"].keys())\n",
    "        print(len(ds_groups))\n",
    "        label_order = [\"distance\", \"energy\", \"dir_theta\", \"dir_phi\", \"pos_theta\", \"pos_phi\"]\n",
    "        grp = ds_groups[ix]\n",
    "                \n",
    "        data = hdl[\"photon_tables\"][grp][:]\n",
    "\n",
    "        data_df = pd.DataFrame(data.T, columns=[\"pmt_id\", \"tres\"])\n",
    "        labels_d = dict(hdl[\"photon_tables\"][grp].attrs)\n",
    "        \n",
    "    return data_df, labels_d"
   ]
  },
  {
   "cell_type": "code",
   "execution_count": 152,
   "metadata": {},
   "outputs": [],
   "source": [
    "ds = HDF5PhotonTableUnWeighted(\"../assets/photon_table.hd5\", 0, -1)\n",
    "\n",
    "split_len = int(np.ceil(0.7*len(ds)))\n",
    "\n",
    "train_dataset, test_dataset = random_split(ds, [split_len, len(ds)-split_len])\n",
    "\n",
    "train_loader = DataLoader(train_dataset, batch_size=500, shuffle=True)\n",
    "test_loader= DataLoader(test_dataset, batch_size=5000)\n"
   ]
  },
  {
   "cell_type": "code",
   "execution_count": null,
   "metadata": {},
   "outputs": [],
   "source": []
  },
  {
   "cell_type": "code",
   "execution_count": 156,
   "metadata": {},
   "outputs": [
    {
     "name": "stdout",
     "output_type": "stream",
     "text": [
      "Epoch: 0  Loss Train: 7.47532  Loss Test: 1.51809\n",
      "Epoch: 1  Loss Train: -0.03317  Loss Test: -0.86668\n",
      "Epoch: 2  Loss Train: -0.20229  Loss Test: -0.77707\n",
      "Epoch: 3  Loss Train: -0.76293  Loss Test: -1.31801\n",
      "Epoch: 4  Loss Train: -0.78374  Loss Test: -1.46169\n",
      "Epoch: 5  Loss Train: -1.01943  Loss Test: -1.83312\n",
      "Epoch: 6  Loss Train: -0.74327  Loss Test: -1.82962\n",
      "Epoch: 7  Loss Train: -1.06574  Loss Test: -1.06636\n",
      "Epoch: 8  Loss Train: -1.03539  Loss Test: -1.22733\n",
      "Epoch: 9  Loss Train: -0.87659  Loss Test: 0.23088\n",
      "Epoch: 10  Loss Train: -1.03291  Loss Test: -1.90104\n",
      "Epoch: 11  Loss Train: -1.16167  Loss Test: -1.51886\n",
      "Epoch: 12  Loss Train: -0.82262  Loss Test: -0.47853\n",
      "Epoch: 13  Loss Train: -1.03136  Loss Test: -1.83971\n",
      "Epoch: 14  Loss Train: -0.85032  Loss Test: -0.72993\n",
      "Epoch: 15  Loss Train: -1.13704  Loss Test: -1.39254\n"
     ]
    },
    {
     "ename": "KeyboardInterrupt",
     "evalue": "",
     "output_type": "error",
     "traceback": [
      "\u001b[0;31m---------------------------------------------------------------------------\u001b[0m",
      "\u001b[0;31mKeyboardInterrupt\u001b[0m                         Traceback (most recent call last)",
      "\u001b[1;32m/home/chrhck/.julia/dev/NeutrinoTelescopes/notebooks/fit_normalizing_flow.ipynb Cell 6\u001b[0m in \u001b[0;36m<cell line: 6>\u001b[0;34m()\u001b[0m\n\u001b[1;32m     <a href='vscode-notebook-cell:/home/chrhck/.julia/dev/NeutrinoTelescopes/notebooks/fit_normalizing_flow.ipynb#ch0000004?line=11'>12</a>\u001b[0m times \u001b[39m=\u001b[39m times\u001b[39m.\u001b[39mto(device)\n\u001b[1;32m     <a href='vscode-notebook-cell:/home/chrhck/.julia/dev/NeutrinoTelescopes/notebooks/fit_normalizing_flow.ipynb#ch0000004?line=12'>13</a>\u001b[0m labels \u001b[39m=\u001b[39m labels\u001b[39m.\u001b[39mto(device)\n\u001b[0;32m---> <a href='vscode-notebook-cell:/home/chrhck/.julia/dev/NeutrinoTelescopes/notebooks/fit_normalizing_flow.ipynb#ch0000004?line=14'>15</a>\u001b[0m log_pdf, _, _ \u001b[39m=\u001b[39m pdf(times[:, np\u001b[39m.\u001b[39;49mnewaxis], conditional_input\u001b[39m=\u001b[39;49mlabels) \n\u001b[1;32m     <a href='vscode-notebook-cell:/home/chrhck/.julia/dev/NeutrinoTelescopes/notebooks/fit_normalizing_flow.ipynb#ch0000004?line=15'>16</a>\u001b[0m neg_log_loss \u001b[39m=\u001b[39m (\u001b[39m-\u001b[39mlog_pdf)\u001b[39m.\u001b[39mmean()\n\u001b[1;32m     <a href='vscode-notebook-cell:/home/chrhck/.julia/dev/NeutrinoTelescopes/notebooks/fit_normalizing_flow.ipynb#ch0000004?line=16'>17</a>\u001b[0m neg_log_loss\u001b[39m.\u001b[39mbackward()\n",
      "File \u001b[0;32m~/.local/lib/python3.10/site-packages/torch/nn/modules/module.py:1130\u001b[0m, in \u001b[0;36mModule._call_impl\u001b[0;34m(self, *input, **kwargs)\u001b[0m\n\u001b[1;32m   1126\u001b[0m \u001b[39m# If we don't have any hooks, we want to skip the rest of the logic in\u001b[39;00m\n\u001b[1;32m   1127\u001b[0m \u001b[39m# this function, and just call forward.\u001b[39;00m\n\u001b[1;32m   1128\u001b[0m \u001b[39mif\u001b[39;00m \u001b[39mnot\u001b[39;00m (\u001b[39mself\u001b[39m\u001b[39m.\u001b[39m_backward_hooks \u001b[39mor\u001b[39;00m \u001b[39mself\u001b[39m\u001b[39m.\u001b[39m_forward_hooks \u001b[39mor\u001b[39;00m \u001b[39mself\u001b[39m\u001b[39m.\u001b[39m_forward_pre_hooks \u001b[39mor\u001b[39;00m _global_backward_hooks\n\u001b[1;32m   1129\u001b[0m         \u001b[39mor\u001b[39;00m _global_forward_hooks \u001b[39mor\u001b[39;00m _global_forward_pre_hooks):\n\u001b[0;32m-> 1130\u001b[0m     \u001b[39mreturn\u001b[39;00m forward_call(\u001b[39m*\u001b[39;49m\u001b[39minput\u001b[39;49m, \u001b[39m*\u001b[39;49m\u001b[39m*\u001b[39;49mkwargs)\n\u001b[1;32m   1131\u001b[0m \u001b[39m# Do not call functions when jit is used\u001b[39;00m\n\u001b[1;32m   1132\u001b[0m full_backward_hooks, non_full_backward_hooks \u001b[39m=\u001b[39m [], []\n",
      "File \u001b[0;32m~/.local/lib/python3.10/site-packages/jammy_flows/flows.py:970\u001b[0m, in \u001b[0;36mpdf.forward\u001b[0;34m(self, x, conditional_input, amortization_parameters, force_embedding_coordinates, force_intrinsic_coordinates)\u001b[0m\n\u001b[1;32m    966\u001b[0m     \u001b[39massert\u001b[39;00m(x\u001b[39m.\u001b[39mshape[\u001b[39m0\u001b[39m]\u001b[39m==\u001b[39mconditional_input\u001b[39m.\u001b[39mshape[\u001b[39m0\u001b[39m]), \u001b[39m\"\u001b[39m\u001b[39mEvaluating input x and condititional input shape must be similar!\u001b[39m\u001b[39m\"\u001b[39m\n\u001b[1;32m    968\u001b[0m tot_log_det \u001b[39m=\u001b[39m torch\u001b[39m.\u001b[39mzeros(x\u001b[39m.\u001b[39mshape[\u001b[39m0\u001b[39m])\u001b[39m.\u001b[39mtype_as(x)\n\u001b[0;32m--> 970\u001b[0m base_pos, tot_log_det\u001b[39m=\u001b[39m\u001b[39mself\u001b[39;49m\u001b[39m.\u001b[39;49mall_layer_inverse(x, tot_log_det, conditional_input, amortization_parameters\u001b[39m=\u001b[39;49mamortization_parameters, force_embedding_coordinates\u001b[39m=\u001b[39;49mforce_embedding_coordinates, force_intrinsic_coordinates\u001b[39m=\u001b[39;49mforce_intrinsic_coordinates)\n\u001b[1;32m    972\u001b[0m log_pdf \u001b[39m=\u001b[39m torch\u001b[39m.\u001b[39mdistributions\u001b[39m.\u001b[39mMultivariateNormal(\n\u001b[1;32m    973\u001b[0m     torch\u001b[39m.\u001b[39mzeros_like(base_pos)\u001b[39m.\u001b[39mto(x),\n\u001b[1;32m    974\u001b[0m     covariance_matrix\u001b[39m=\u001b[39mtorch\u001b[39m.\u001b[39meye(\u001b[39mself\u001b[39m\u001b[39m.\u001b[39mtotal_base_dim)\u001b[39m.\u001b[39mtype_as(x)\u001b[39m.\u001b[39mto(x),\n\u001b[1;32m    975\u001b[0m )\u001b[39m.\u001b[39mlog_prob(base_pos)\n\u001b[1;32m    978\u001b[0m \u001b[39mreturn\u001b[39;00m log_pdf \u001b[39m+\u001b[39m tot_log_det, log_pdf, base_pos\n",
      "File \u001b[0;32m~/.local/lib/python3.10/site-packages/jammy_flows/flows.py:905\u001b[0m, in \u001b[0;36mpdf.all_layer_inverse\u001b[0;34m(self, x, log_det, data_summary, amortization_parameters, force_embedding_coordinates, force_intrinsic_coordinates)\u001b[0m\n\u001b[1;32m    902\u001b[0m         this_target, log_det \u001b[39m=\u001b[39m layer\u001b[39m.\u001b[39minv_flow_mapping([this_target, log_det], extra_inputs\u001b[39m=\u001b[39mthis_extra_params)\n\u001b[1;32m    903\u001b[0m     \u001b[39melse\u001b[39;00m:\n\u001b[0;32m--> 905\u001b[0m         this_target, log_det \u001b[39m=\u001b[39m layer\u001b[39m.\u001b[39;49minv_flow_mapping([this_target, log_det], extra_inputs\u001b[39m=\u001b[39;49mthis_extra_params)\n\u001b[1;32m    907\u001b[0m     extra_param_counter \u001b[39m+\u001b[39m\u001b[39m=\u001b[39m layer\u001b[39m.\u001b[39mtotal_param_num\n\u001b[1;32m    909\u001b[0m \u001b[39mif\u001b[39;00m(\u001b[39mFalse\u001b[39;00m):\n\u001b[1;32m    910\u001b[0m     \u001b[39m## stems from debugging purposes, not used currently\u001b[39;00m\n",
      "File \u001b[0;32m~/.local/lib/python3.10/site-packages/jammy_flows/layers/euclidean/euclidean_base.py:51\u001b[0m, in \u001b[0;36meuclidean_base.inv_flow_mapping\u001b[0;34m(self, inputs, extra_inputs, force_embedding_coordinates, force_intrinsic_coordinates)\u001b[0m\n\u001b[1;32m     48\u001b[0m         \u001b[39mreturn\u001b[39;00m \u001b[39mself\u001b[39m\u001b[39m.\u001b[39m_inv_flow_mapping([x\u001b[39m-\u001b[39mthis_offset, logdet], extra_inputs\u001b[39m=\u001b[39m\u001b[39mNone\u001b[39;00m)\n\u001b[1;32m     49\u001b[0m \u001b[39melse\u001b[39;00m:\n\u001b[0;32m---> 51\u001b[0m     \u001b[39mreturn\u001b[39;00m \u001b[39mself\u001b[39;49m\u001b[39m.\u001b[39;49m_inv_flow_mapping(inputs, extra_inputs\u001b[39m=\u001b[39;49mextra_inputs)\n",
      "File \u001b[0;32m~/.local/lib/python3.10/site-packages/jammy_flows/layers/euclidean/gaussianization_flow.py:1034\u001b[0m, in \u001b[0;36mgf_block._inv_flow_mapping\u001b[0;34m(self, inputs, extra_inputs)\u001b[0m\n\u001b[1;32m   1030\u001b[0m \u001b[39m###############################\u001b[39;00m\n\u001b[1;32m   1032\u001b[0m \u001b[39mif\u001b[39;00m(\u001b[39mself\u001b[39m\u001b[39m.\u001b[39mnonlinear_stretch_type\u001b[39m==\u001b[39m\u001b[39m\"\u001b[39m\u001b[39mclassic\u001b[39m\u001b[39m\"\u001b[39m):\n\u001b[0;32m-> 1034\u001b[0m     x, log_deriv\u001b[39m=\u001b[39m\u001b[39mself\u001b[39;49m\u001b[39m.\u001b[39;49msigmoid_inv_error_pass_combined_val_n_log_derivative(x, \u001b[39m*\u001b[39;49mflow_params)\n\u001b[1;32m   1036\u001b[0m     log_det\u001b[39m=\u001b[39mlog_det\u001b[39m+\u001b[39mlog_deriv\u001b[39m.\u001b[39msum(axis\u001b[39m=\u001b[39m\u001b[39m-\u001b[39m\u001b[39m1\u001b[39m)\n\u001b[1;32m   1038\u001b[0m \u001b[39melif\u001b[39;00m(\u001b[39mself\u001b[39m\u001b[39m.\u001b[39mnonlinear_stretch_type\u001b[39m==\u001b[39m\u001b[39m\"\u001b[39m\u001b[39mrq_splines\u001b[39m\u001b[39m\"\u001b[39m):\n",
      "File \u001b[0;32m~/.local/lib/python3.10/site-packages/jammy_flows/layers/euclidean/gaussianization_flow.py:670\u001b[0m, in \u001b[0;36mgf_block.sigmoid_inv_error_pass_combined_val_n_log_derivative\u001b[0;34m(self, x, datapoints, log_widths, log_norms, skew_exponents, skew_signs)\u001b[0m\n\u001b[1;32m    665\u001b[0m \u001b[39m\"\"\"\u001b[39;00m\n\u001b[1;32m    666\u001b[0m \u001b[39mUsed by inverse flow to compactly calculate both quantities.\u001b[39;00m\n\u001b[1;32m    667\u001b[0m \u001b[39m\"\"\"\u001b[39;00m\n\u001b[1;32m    668\u001b[0m log_cdf, log_sf, log_pdf\u001b[39m=\u001b[39m\u001b[39mself\u001b[39m\u001b[39m.\u001b[39mlogistic_kernel_log_pdf_quantities(x, datapoints,log_widths,log_norms, skew_exponents, skew_signs, calculate_pdf\u001b[39m=\u001b[39m\u001b[39mTrue\u001b[39;00m)  \n\u001b[0;32m--> 670\u001b[0m new_val\u001b[39m=\u001b[39m\u001b[39mself\u001b[39;49m\u001b[39m.\u001b[39;49msigmoid_inv_error_pass_given_cdf_sf(log_cdf, log_sf)\n\u001b[1;32m    672\u001b[0m log_deriv\u001b[39m=\u001b[39m\u001b[39mself\u001b[39m\u001b[39m.\u001b[39msigmoid_inv_error_pass_log_derivative_given_cdf_sf(log_cdf, log_sf, log_pdf)\n\u001b[1;32m    674\u001b[0m \u001b[39mreturn\u001b[39;00m new_val, log_deriv\n",
      "\u001b[0;31mKeyboardInterrupt\u001b[0m: "
     ]
    }
   ],
   "source": [
    "pdf = jammy_flows.pdf(\"e1\", \"gggg\", conditional_input_dim=16+6, hidden_mlp_dims_sub_pdfs=\"128-128\").to(device)\n",
    "optim = Adam(pdf.parameters(), lr=0.001)\n",
    "writer = SummaryWriter(\"/tmp/tensorboard/nflow\")\n",
    "\n",
    "train_iter = 0\n",
    "for epoch in range(100):\n",
    "    loss = 0\n",
    "    for (times, labels) in train_loader:\n",
    "        train_iter += 1\n",
    "        optim.zero_grad()\n",
    "\n",
    "        times = times.to(device)\n",
    "        labels = labels.to(device)\n",
    "\n",
    "        log_pdf, _, _ = pdf(times[:, np.newaxis], conditional_input=labels) \n",
    "        neg_log_loss = (-log_pdf).mean()\n",
    "        neg_log_loss.backward()\n",
    "        optim.step()\n",
    "        loss += neg_log_loss.detach()\n",
    "\n",
    "        \n",
    "        writer.add_scalar('Loss/train_batch', neg_log_loss.detach(), train_iter)\n",
    "       \n",
    "    loss /= len(train_loader)\n",
    "    \n",
    "\n",
    "    loss_test = 0\n",
    "    for (times, labels) in test_loader:\n",
    "        times = times.to(device)\n",
    "        labels = labels.to(device)\n",
    "\n",
    "        log_pdf, _, _ = pdf(times[:, np.newaxis], conditional_input=labels)\n",
    "        loss_test += (-log_pdf).mean().detach()\n",
    "    \n",
    "    loss_test /= len(test_loader)\n",
    "\n",
    "    writer.add_scalar('Loss/train', loss, epoch)\n",
    "    writer.add_scalar('Loss/test', loss_test, epoch)\n",
    "    \n",
    "    print(f\"Epoch: {epoch:d}  Loss Train: {loss:.5f}  Loss Test: {loss_test:.5f}\")\n",
    "\n"
   ]
  },
  {
   "cell_type": "code",
   "execution_count": 171,
   "metadata": {},
   "outputs": [
    {
     "name": "stdout",
     "output_type": "stream",
     "text": [
      "100\n",
      "{'dir_phi': 1.7590525497075664, 'dir_theta': 2.396567576390611, 'distance': 13.915788650512695, 'energy': 100000.0, 'pos_phi': 2.4195030515550093, 'pos_theta': 0.3591260640446554}\n"
     ]
    }
   ],
   "source": [
    "ev = read_table_hdf_unweighted(\"../assets/photon_table.hd5\", 80)\n",
    "print(ev[1])"
   ]
  },
  {
   "cell_type": "code",
   "execution_count": 172,
   "metadata": {},
   "outputs": [
    {
     "name": "stdout",
     "output_type": "stream",
     "text": [
      "1.0\n",
      "2.0\n",
      "3.0\n",
      "6.0\n",
      "7.0\n",
      "9.0\n",
      "10.0\n",
      "11.0\n",
      "12.0\n",
      "13.0\n",
      "14.0\n",
      "15.0\n",
      "16.0\n"
     ]
    },
    {
     "data": {
      "image/png": "[encoded data removed]",
      "text/plain": [
       "<Figure size 1152x864 with 16 Axes>"
      ]
     },
     "metadata": {
      "needs_background": "light"
     },
     "output_type": "display_data"
    }
   ],
   "source": [
    "fig, axs = plt.subplots(4, 4, figsize=(16, 12))\n",
    "\n",
    "label_order = [\"distance\", \"energy\", \"dir_theta\", \"dir_phi\", \"pos_theta\", \"pos_phi\"]\n",
    "\n",
    "for i, (grpname, grp) in enumerate(ev[0].groupby(\"pmt_id\")):\n",
    "    row, col = divmod(i, 4)\n",
    "    ax = axs[row][col]\n",
    "    x = grp[\"tres\"]\n",
    "    #weights = grp[\"weight\"]\n",
    "    sns.histplot(x=x, bins=np.linspace(-50, 100, 50), ax=ax)\n",
    "\n",
    "    pmt_encoding = torch.nn.functional.one_hot(torch.LongTensor([int(grpname) - 1]), 16)\n",
    "    xs = torch.linspace(-50, 100, 100)\n",
    "    labels = torch.empty((xs.shape[0], 16 + len(label_order)), dtype=torch.float64)\n",
    "    labels_d = ev[1]\n",
    "    for i, label in enumerate(label_order):\n",
    "        labels[:, i] = labels_d[label]\n",
    "    labels[:, len(label_order):] = pmt_encoding\n",
    "    labels[:, 0] = np.log10(labels[:, 0])\n",
    "    labels[:, 1] = np.log10(labels[:, 1])\n",
    "\n",
    "    logpdf, _, _ = pdf(xs[:, np.newaxis].to(device), conditional_input=labels.to(device))\n",
    "    ax.plot(xs, torch.exp(logpdf).detach().cpu() )\n",
    "     \n",
    "\n"
   ]
  },
  {
   "cell_type": "code",
   "execution_count": 12,
   "metadata": {},
   "outputs": [
    {
     "data": {
      "text/plain": [
       "(tensor([88.9582, 88.6213, 88.5577,  ..., 91.2363, 89.3823, 91.6626],\n",
       "        dtype=torch.float64),\n",
       " tensor([1.8697e-05, 6.4915e-06, 1.9423e-08,  ..., 7.2944e-06, 2.3484e-05,\n",
       "         2.6958e-08], dtype=torch.float64),\n",
       " tensor([[1.3281, 4.9531, 1.7695,  ..., 0.0000, 0.0000, 0.0000],\n",
       "         [1.3281, 4.9531, 1.7695,  ..., 0.0000, 0.0000, 0.0000],\n",
       "         [1.3281, 4.9531, 1.7695,  ..., 0.0000, 0.0000, 0.0000],\n",
       "         ...,\n",
       "         [1.3281, 4.9531, 1.7695,  ..., 0.0000, 0.0000, 0.0000],\n",
       "         [1.3281, 4.9531, 1.7695,  ..., 0.0000, 0.0000, 0.0000],\n",
       "         [1.3281, 4.9531, 1.7695,  ..., 0.0000, 0.0000, 0.0000]],\n",
       "        dtype=torch.float64))"
      ]
     },
     "execution_count": 12,
     "metadata": {},
     "output_type": "execute_result"
    }
   ],
   "source": [
    "ev"
   ]
  },
  {
   "cell_type": "code",
   "execution_count": 10,
   "metadata": {},
   "outputs": [
    {
     "name": "stderr",
     "output_type": "stream",
     "text": [
      "/home/chrhck/.local/lib/python3.10/site-packages/seaborn/distributions.py:419: UserWarning: `bins` cannot be 'auto' when using weights. Setting `bins=10`, but you will likely want to adjust.\n",
      "  warnings.warn(msg, UserWarning)\n"
     ]
    },
    {
     "data": {
      "image/png": "[encoded data removed]",
      "text/plain": [
       "<Figure size 640x480 with 1 Axes>"
      ]
     },
     "metadata": {},
     "output_type": "display_data"
    }
   ],
   "source": [
    "pdf = jammy_flows.pdf(\"e1\", \"gggg\", conditional_input_dim=16+6, hidden_mlp_dims_sub_pdfs=\"128-128\").to(device)\n",
    "optim = Adam(pdf.parameters(), lr=0.001)\n",
    "\n",
    "for epoch in range(100):\n",
    "    loss = 0\n",
    "    for (times, weights, labels) in train_loader:\n",
    "        optim.zero_grad()\n",
    "\n",
    "        times = times.to(device)\n",
    "        labels = labels.to(device)\n",
    "        weights = weights.to(device)\n",
    "\n",
    "        weights = weights / torch.sum(weights) * len(weights)\n",
    "\n",
    "        if any(~torch.isfinite(weights)):\n",
    "            raise RuntimeError\n",
    "\n",
    "        log_pdf, _, _ = pdf(times[:, np.newaxis], conditional_input=labels) \n",
    "        neg_log_loss = (-log_pdf * weights).mean()\n",
    "        neg_log_loss.backward()\n",
    "        optim.step()\n",
    "        loss += neg_log_loss.detach()\n",
    "\n",
    "    loss /= len(train_loader)\n",
    "    \n",
    "\n",
    "    loss_test = 0\n",
    "    for (times, weights, labels) in test_loader:\n",
    "        times = times.to(device)\n",
    "        labels = labels.to(device)\n",
    "        weights = weights.to(device)\n",
    "        weights = weights / torch.sum(weights) * len(weights)\n",
    "\n",
    "        log_pdf, _, _ = pdf(times[:, np.newaxis], conditional_input=labels)\n",
    "        loss_test += (-log_pdf * weights).mean().detach()\n",
    "    \n",
    "    loss_test /= len(test_loader)\n",
    "\n",
    "    \n",
    "    print(f\"Epoch: {epoch:d}  Loss Train: {loss:.5f}  Loss Test: {loss_test:.5f}\")\n",
    "\n"
   ]
  },
  {
   "cell_type": "code",
   "execution_count": 10,
   "metadata": {},
   "outputs": [],
   "source": [
    "test_times, test_labels = next(iter(test_dataset))\n",
    "\n",
    "logpdf, _, _ = pdf(test_times[:, np.newaxis], conditional_input=test_labels)\n"
   ]
  },
  {
   "cell_type": "code",
   "execution_count": 13,
   "metadata": {},
   "outputs": [
    {
     "data": {
      "text/plain": [
       "tensor([176.8423, 178.5658], device='cuda:0', dtype=torch.float64)"
      ]
     },
     "execution_count": 13,
     "metadata": {},
     "output_type": "execute_result"
    }
   ],
   "source": [
    "test_times"
   ]
  },
  {
   "cell_type": "code",
   "execution_count": 11,
   "metadata": {},
   "outputs": [],
   "source": []
  },
  {
   "cell_type": "code",
   "execution_count": 12,
   "metadata": {},
   "outputs": [
    {
     "data": {
      "text/plain": [
       "<AxesSubplot: >"
      ]
     },
     "execution_count": 12,
     "metadata": {},
     "output_type": "execute_result"
    },
    {
     "data": {
      "image/png": "[encoded data removed]",
      "text/plain": [
       "<Figure size 640x480 with 1 Axes>"
      ]
     },
     "metadata": {},
     "output_type": "display_data"
    }
   ],
   "source": [
    "plt.scatter(test_times[mask].detach().cpu(), np.exp(logpdf[mask].detach().cpu()))\n",
    "sns.histplot(test_times[mask].detach().cpu(), stat=\"density\")"
   ]
  },
  {
   "cell_type": "code",
   "execution_count": 29,
   "metadata": {},
   "outputs": [
    {
     "data": {
      "text/plain": [
       "<AxesSubplot:ylabel='Density'>"
      ]
     },
     "execution_count": 29,
     "metadata": {},
     "output_type": "execute_result"
    },
    {
     "data": {
      "image/png": "[encoded data removed]",
      "text/plain": [
       "<Figure size 432x288 with 1 Axes>"
      ]
     },
     "metadata": {
      "needs_background": "light"
     },
     "output_type": "display_data"
    }
   ],
   "source": [
    "plt.scatter(test_per_pmt[:].detach().cpu(), np.exp(logpdf.detach().cpu()))\n",
    "sns.histplot(test_per_pmt[:].detach().cpu(), stat=\"density\")"
   ]
  },
  {
   "cell_type": "code",
   "execution_count": 34,
   "metadata": {},
   "outputs": [
    {
     "ename": "ValueError",
     "evalue": "Shape of passed values is (2, 5126), indices imply (2, 2)",
     "output_type": "error",
     "traceback": [
      "\u001b[0;31m---------------------------------------------------------------------------\u001b[0m",
      "\u001b[0;31mValueError\u001b[0m                                Traceback (most recent call last)",
      "\u001b[1;32m/home/chrhck/.julia/dev/NeutrinoTelescopes/notebooks/fit_normalizing_flow.ipynb Cell 4\u001b[0m in \u001b[0;36m<cell line: 1>\u001b[0;34m()\u001b[0m\n\u001b[0;32m----> <a href='vscode-notebook-cell:/home/chrhck/.julia/dev/NeutrinoTelescopes/notebooks/fit_normalizing_flow.ipynb#ch0000002?line=0'>1</a>\u001b[0m labels, features \u001b[39m=\u001b[39m \u001b[39mnext\u001b[39;49m(\u001b[39miter\u001b[39;49m(dl))\n",
      "File \u001b[0;32m~/.local/lib/python3.10/site-packages/torch/utils/data/dataloader.py:681\u001b[0m, in \u001b[0;36m_BaseDataLoaderIter.__next__\u001b[0;34m(self)\u001b[0m\n\u001b[1;32m    678\u001b[0m \u001b[39mif\u001b[39;00m \u001b[39mself\u001b[39m\u001b[39m.\u001b[39m_sampler_iter \u001b[39mis\u001b[39;00m \u001b[39mNone\u001b[39;00m:\n\u001b[1;32m    679\u001b[0m     \u001b[39m# TODO(https://github.com/pytorch/pytorch/issues/76750)\u001b[39;00m\n\u001b[1;32m    680\u001b[0m     \u001b[39mself\u001b[39m\u001b[39m.\u001b[39m_reset()  \u001b[39m# type: ignore[call-arg]\u001b[39;00m\n\u001b[0;32m--> 681\u001b[0m data \u001b[39m=\u001b[39m \u001b[39mself\u001b[39;49m\u001b[39m.\u001b[39;49m_next_data()\n\u001b[1;32m    682\u001b[0m \u001b[39mself\u001b[39m\u001b[39m.\u001b[39m_num_yielded \u001b[39m+\u001b[39m\u001b[39m=\u001b[39m \u001b[39m1\u001b[39m\n\u001b[1;32m    683\u001b[0m \u001b[39mif\u001b[39;00m \u001b[39mself\u001b[39m\u001b[39m.\u001b[39m_dataset_kind \u001b[39m==\u001b[39m _DatasetKind\u001b[39m.\u001b[39mIterable \u001b[39mand\u001b[39;00m \\\n\u001b[1;32m    684\u001b[0m         \u001b[39mself\u001b[39m\u001b[39m.\u001b[39m_IterableDataset_len_called \u001b[39mis\u001b[39;00m \u001b[39mnot\u001b[39;00m \u001b[39mNone\u001b[39;00m \u001b[39mand\u001b[39;00m \\\n\u001b[1;32m    685\u001b[0m         \u001b[39mself\u001b[39m\u001b[39m.\u001b[39m_num_yielded \u001b[39m>\u001b[39m \u001b[39mself\u001b[39m\u001b[39m.\u001b[39m_IterableDataset_len_called:\n",
      "File \u001b[0;32m~/.local/lib/python3.10/site-packages/torch/utils/data/dataloader.py:721\u001b[0m, in \u001b[0;36m_SingleProcessDataLoaderIter._next_data\u001b[0;34m(self)\u001b[0m\n\u001b[1;32m    719\u001b[0m \u001b[39mdef\u001b[39;00m \u001b[39m_next_data\u001b[39m(\u001b[39mself\u001b[39m):\n\u001b[1;32m    720\u001b[0m     index \u001b[39m=\u001b[39m \u001b[39mself\u001b[39m\u001b[39m.\u001b[39m_next_index()  \u001b[39m# may raise StopIteration\u001b[39;00m\n\u001b[0;32m--> 721\u001b[0m     data \u001b[39m=\u001b[39m \u001b[39mself\u001b[39;49m\u001b[39m.\u001b[39;49m_dataset_fetcher\u001b[39m.\u001b[39;49mfetch(index)  \u001b[39m# may raise StopIteration\u001b[39;00m\n\u001b[1;32m    722\u001b[0m     \u001b[39mif\u001b[39;00m \u001b[39mself\u001b[39m\u001b[39m.\u001b[39m_pin_memory:\n\u001b[1;32m    723\u001b[0m         data \u001b[39m=\u001b[39m _utils\u001b[39m.\u001b[39mpin_memory\u001b[39m.\u001b[39mpin_memory(data, \u001b[39mself\u001b[39m\u001b[39m.\u001b[39m_pin_memory_device)\n",
      "File \u001b[0;32m~/.local/lib/python3.10/site-packages/torch/utils/data/_utils/fetch.py:32\u001b[0m, in \u001b[0;36m_IterableDatasetFetcher.fetch\u001b[0;34m(self, possibly_batched_index)\u001b[0m\n\u001b[1;32m     30\u001b[0m \u001b[39mfor\u001b[39;00m _ \u001b[39min\u001b[39;00m possibly_batched_index:\n\u001b[1;32m     31\u001b[0m     \u001b[39mtry\u001b[39;00m:\n\u001b[0;32m---> 32\u001b[0m         data\u001b[39m.\u001b[39mappend(\u001b[39mnext\u001b[39;49m(\u001b[39mself\u001b[39;49m\u001b[39m.\u001b[39;49mdataset_iter))\n\u001b[1;32m     33\u001b[0m     \u001b[39mexcept\u001b[39;00m \u001b[39mStopIteration\u001b[39;00m:\n\u001b[1;32m     34\u001b[0m         \u001b[39mself\u001b[39m\u001b[39m.\u001b[39mended \u001b[39m=\u001b[39m \u001b[39mTrue\u001b[39;00m\n",
      "\u001b[1;32m/home/chrhck/.julia/dev/NeutrinoTelescopes/notebooks/fit_normalizing_flow.ipynb Cell 4\u001b[0m in \u001b[0;36mHDF5PhotonTable.__iter__\u001b[0;34m(self)\u001b[0m\n\u001b[1;32m     <a href='vscode-notebook-cell:/home/chrhck/.julia/dev/NeutrinoTelescopes/notebooks/fit_normalizing_flow.ipynb#ch0000002?line=27'>28</a>\u001b[0m grp \u001b[39m=\u001b[39m ds_groups[i]\n\u001b[1;32m     <a href='vscode-notebook-cell:/home/chrhck/.julia/dev/NeutrinoTelescopes/notebooks/fit_normalizing_flow.ipynb#ch0000002?line=28'>29</a>\u001b[0m labels \u001b[39m=\u001b[39m \u001b[39mdict\u001b[39m(\u001b[39mself\u001b[39m\u001b[39m.\u001b[39m_hdl[\u001b[39m\"\u001b[39m\u001b[39mphoton_tables\u001b[39m\u001b[39m\"\u001b[39m][grp]\u001b[39m.\u001b[39mattrs)\n\u001b[0;32m---> <a href='vscode-notebook-cell:/home/chrhck/.julia/dev/NeutrinoTelescopes/notebooks/fit_normalizing_flow.ipynb#ch0000002?line=30'>31</a>\u001b[0m df \u001b[39m=\u001b[39m pd\u001b[39m.\u001b[39;49mDataFrame(\u001b[39mself\u001b[39;49m\u001b[39m.\u001b[39;49m_hdl[\u001b[39m\"\u001b[39;49m\u001b[39mphoton_tables\u001b[39;49m\u001b[39m\"\u001b[39;49m][grp][:], columns\u001b[39m=\u001b[39;49m[\u001b[39m\"\u001b[39;49m\u001b[39mpmt_id\u001b[39;49m\u001b[39m\"\u001b[39;49m, \u001b[39m\"\u001b[39;49m\u001b[39mtime\u001b[39;49m\u001b[39m\"\u001b[39;49m])            \n\u001b[1;32m     <a href='vscode-notebook-cell:/home/chrhck/.julia/dev/NeutrinoTelescopes/notebooks/fit_normalizing_flow.ipynb#ch0000002?line=31'>32</a>\u001b[0m grpd \u001b[39m=\u001b[39m df\u001b[39m.\u001b[39mgroupby(\u001b[39m\"\u001b[39m\u001b[39mpmt_id\u001b[39m\u001b[39m\"\u001b[39m)\n\u001b[1;32m     <a href='vscode-notebook-cell:/home/chrhck/.julia/dev/NeutrinoTelescopes/notebooks/fit_normalizing_flow.ipynb#ch0000002?line=33'>34</a>\u001b[0m \u001b[39myield\u001b[39;00m labels, [grpd[i][\u001b[39m\"\u001b[39m\u001b[39mtime\u001b[39m\u001b[39m\"\u001b[39m]\u001b[39m.\u001b[39mvalues \u001b[39mif\u001b[39;00m i \u001b[39min\u001b[39;00m grpd \u001b[39melse\u001b[39;00m [] \u001b[39mfor\u001b[39;00m i \u001b[39min\u001b[39;00m \u001b[39mrange\u001b[39m(\u001b[39m1\u001b[39m, \u001b[39m17\u001b[39m) ]\n",
      "File \u001b[0;32m/usr/lib/python3/dist-packages/pandas/core/frame.py:672\u001b[0m, in \u001b[0;36mDataFrame.__init__\u001b[0;34m(self, data, index, columns, dtype, copy)\u001b[0m\n\u001b[1;32m    662\u001b[0m         mgr \u001b[39m=\u001b[39m dict_to_mgr(\n\u001b[1;32m    663\u001b[0m             \u001b[39m# error: Item \"ndarray\" of \"Union[ndarray, Series, Index]\" has no\u001b[39;00m\n\u001b[1;32m    664\u001b[0m             \u001b[39m# attribute \"name\"\u001b[39;00m\n\u001b[0;32m   (...)\u001b[0m\n\u001b[1;32m    669\u001b[0m             typ\u001b[39m=\u001b[39mmanager,\n\u001b[1;32m    670\u001b[0m         )\n\u001b[1;32m    671\u001b[0m     \u001b[39melse\u001b[39;00m:\n\u001b[0;32m--> 672\u001b[0m         mgr \u001b[39m=\u001b[39m ndarray_to_mgr(\n\u001b[1;32m    673\u001b[0m             data,\n\u001b[1;32m    674\u001b[0m             index,\n\u001b[1;32m    675\u001b[0m             columns,\n\u001b[1;32m    676\u001b[0m             dtype\u001b[39m=\u001b[39;49mdtype,\n\u001b[1;32m    677\u001b[0m             copy\u001b[39m=\u001b[39;49mcopy,\n\u001b[1;32m    678\u001b[0m             typ\u001b[39m=\u001b[39;49mmanager,\n\u001b[1;32m    679\u001b[0m         )\n\u001b[1;32m    681\u001b[0m \u001b[39m# For data is list-like, or Iterable (will consume into list)\u001b[39;00m\n\u001b[1;32m    682\u001b[0m \u001b[39melif\u001b[39;00m is_list_like(data):\n",
      "File \u001b[0;32m/usr/lib/python3/dist-packages/pandas/core/internals/construction.py:324\u001b[0m, in \u001b[0;36mndarray_to_mgr\u001b[0;34m(values, index, columns, dtype, copy, typ)\u001b[0m\n\u001b[1;32m    319\u001b[0m \u001b[39m# _prep_ndarray ensures that values.ndim == 2 at this point\u001b[39;00m\n\u001b[1;32m    320\u001b[0m index, columns \u001b[39m=\u001b[39m _get_axes(\n\u001b[1;32m    321\u001b[0m     values\u001b[39m.\u001b[39mshape[\u001b[39m0\u001b[39m], values\u001b[39m.\u001b[39mshape[\u001b[39m1\u001b[39m], index\u001b[39m=\u001b[39mindex, columns\u001b[39m=\u001b[39mcolumns\n\u001b[1;32m    322\u001b[0m )\n\u001b[0;32m--> 324\u001b[0m _check_values_indices_shape_match(values, index, columns)\n\u001b[1;32m    326\u001b[0m \u001b[39mif\u001b[39;00m typ \u001b[39m==\u001b[39m \u001b[39m\"\u001b[39m\u001b[39marray\u001b[39m\u001b[39m\"\u001b[39m:\n\u001b[1;32m    328\u001b[0m     \u001b[39mif\u001b[39;00m \u001b[39missubclass\u001b[39m(values\u001b[39m.\u001b[39mdtype\u001b[39m.\u001b[39mtype, \u001b[39mstr\u001b[39m):\n",
      "File \u001b[0;32m/usr/lib/python3/dist-packages/pandas/core/internals/construction.py:393\u001b[0m, in \u001b[0;36m_check_values_indices_shape_match\u001b[0;34m(values, index, columns)\u001b[0m\n\u001b[1;32m    391\u001b[0m passed \u001b[39m=\u001b[39m values\u001b[39m.\u001b[39mshape\n\u001b[1;32m    392\u001b[0m implied \u001b[39m=\u001b[39m (\u001b[39mlen\u001b[39m(index), \u001b[39mlen\u001b[39m(columns))\n\u001b[0;32m--> 393\u001b[0m \u001b[39mraise\u001b[39;00m \u001b[39mValueError\u001b[39;00m(\u001b[39mf\u001b[39m\u001b[39m\"\u001b[39m\u001b[39mShape of passed values is \u001b[39m\u001b[39m{\u001b[39;00mpassed\u001b[39m}\u001b[39;00m\u001b[39m, indices imply \u001b[39m\u001b[39m{\u001b[39;00mimplied\u001b[39m}\u001b[39;00m\u001b[39m\"\u001b[39m)\n",
      "\u001b[0;31mValueError\u001b[0m: Shape of passed values is (2, 5126), indices imply (2, 2)"
     ]
    }
   ],
   "source": [
    "labels, features = next(iter(dl))"
   ]
  },
  {
   "cell_type": "code",
   "execution_count": 9,
   "metadata": {},
   "outputs": [],
   "source": [
    "pdf=jammy_flows.pdf(\"e1\", \"gggg\")"
   ]
  },
  {
   "cell_type": "code",
   "execution_count": 8,
   "metadata": {},
   "outputs": [
    {
     "data": {
      "text/plain": [
       "<KeysViewHDF5 ['dataset_1', 'dataset_10', 'dataset_11', 'dataset_12', 'dataset_2', 'dataset_3', 'dataset_4', 'dataset_5', 'dataset_6', 'dataset_7', 'dataset_8', 'dataset_9']>"
      ]
     },
     "execution_count": 8,
     "metadata": {},
     "output_type": "execute_result"
    }
   ],
   "source": []
  },
  {
   "cell_type": "code",
   "execution_count": 9,
   "metadata": {},
   "outputs": [
    {
     "ename": "IndexError",
     "evalue": "Index (0) out of range for empty dimension",
     "output_type": "error",
     "traceback": [
      "\u001b[0;31m---------------------------------------------------------------------------\u001b[0m",
      "\u001b[0;31mIndexError\u001b[0m                                Traceback (most recent call last)",
      "Cell \u001b[0;32mIn [9], line 2\u001b[0m\n\u001b[1;32m      1\u001b[0m \u001b[39mwith\u001b[39;00m h5py\u001b[39m.\u001b[39mFile(\u001b[39m\"\u001b[39m\u001b[39m../assets/photon_table.hd5\u001b[39m\u001b[39m\"\u001b[39m) \u001b[39mas\u001b[39;00m hdl:\n\u001b[0;32m----> 2\u001b[0m     \u001b[39mprint\u001b[39m(hdl[\u001b[39m\"\u001b[39;49m\u001b[39mphoton_tables/dataset_2\u001b[39;49m\u001b[39m\"\u001b[39;49m][:, \u001b[39m0\u001b[39;49m])\n",
      "File \u001b[0;32mh5py/_objects.pyx:54\u001b[0m, in \u001b[0;36mh5py._objects.with_phil.wrapper\u001b[0;34m()\u001b[0m\n",
      "File \u001b[0;32mh5py/_objects.pyx:55\u001b[0m, in \u001b[0;36mh5py._objects.with_phil.wrapper\u001b[0;34m()\u001b[0m\n",
      "File \u001b[0;32m~/.local/lib/python3.10/site-packages/h5py/_hl/dataset.py:741\u001b[0m, in \u001b[0;36mDataset.__getitem__\u001b[0;34m(self, args, new_dtype)\u001b[0m\n\u001b[1;32m    739\u001b[0m \u001b[39mif\u001b[39;00m \u001b[39mself\u001b[39m\u001b[39m.\u001b[39m_fast_read_ok \u001b[39mand\u001b[39;00m (new_dtype \u001b[39mis\u001b[39;00m \u001b[39mNone\u001b[39;00m):\n\u001b[1;32m    740\u001b[0m     \u001b[39mtry\u001b[39;00m:\n\u001b[0;32m--> 741\u001b[0m         \u001b[39mreturn\u001b[39;00m \u001b[39mself\u001b[39;49m\u001b[39m.\u001b[39;49m_fast_reader\u001b[39m.\u001b[39;49mread(args)\n\u001b[1;32m    742\u001b[0m     \u001b[39mexcept\u001b[39;00m \u001b[39mTypeError\u001b[39;00m:\n\u001b[1;32m    743\u001b[0m         \u001b[39mpass\u001b[39;00m  \u001b[39m# Fall back to Python read pathway below\u001b[39;00m\n",
      "File \u001b[0;32mh5py/_selector.pyx:355\u001b[0m, in \u001b[0;36mh5py._selector.Reader.read\u001b[0;34m()\u001b[0m\n",
      "File \u001b[0;32mh5py/_selector.pyx:151\u001b[0m, in \u001b[0;36mh5py._selector.Selector.apply_args\u001b[0;34m()\u001b[0m\n",
      "\u001b[0;31mIndexError\u001b[0m: Index (0) out of range for empty dimension"
     ]
    }
   ],
   "source": [
    "with h5py.File(\"../assets/photon_table.hd5\") as hdl:\n",
    "    print(hdl[\"photon_tables/dataset_2\"][:, 0])"
   ]
  },
  {
   "cell_type": "code",
   "execution_count": null,
   "metadata": {},
   "outputs": [],
   "source": []
  }
 ],
 "metadata": {
  "kernelspec": {
   "display_name": "Python 3.10.4 64-bit",
   "language": "python",
   "name": "python3"
  },
  "language_info": {
   "codemirror_mode": {
    "name": "ipython",
    "version": 3
   },
   "file_extension": ".py",
   "mimetype": "text/x-python",
   "name": "python",
   "nbconvert_exporter": "python",
   "pygments_lexer": "ipython3",
   "version": "3.10.4"
  },
  "orig_nbformat": 4,
  "vscode": {
   "interpreter": {
    "hash": "916dbcbb3f70747c44a77c7bcd40155683ae19c65e1c03b4aa3499c5328201f1"
   }
  }
 },
 "nbformat": 4,
 "nbformat_minor": 2
}
