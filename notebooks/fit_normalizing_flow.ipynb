{
 "cells": [
  {
   "cell_type": "code",
   "execution_count": 5,
   "metadata": {},
   "outputs": [],
   "source": [
    "import jammy_flows\n",
    "import h5py\n",
    "import matplotlib.pyplot as plt\n",
    "import seaborn as sns\n",
    "import torch\n",
    "from torch.utils.data import DataLoader, Dataset, random_split, TensorDataset\n",
    "from torch.optim import Adam \n",
    "import math\n",
    "import pandas as pd\n",
    "import numpy as np\n",
    "\n",
    "if torch.cuda.is_available:\n",
    "    device = torch.device(\"cuda\")\n",
    "else:\n",
    "    device = torch.device(\"cpu\")\n"
   ]
  },
  {
   "cell_type": "code",
   "execution_count": 6,
   "metadata": {},
   "outputs": [],
   "source": [
    "class HDF5PhotonTable(Dataset):\n",
    "    def __init__(self, filename, start, end):\n",
    "        super(HDF5PhotonTable).__init__()\n",
    "        assert end > start, \"end >= start\"\n",
    "        self._hdl = h5py.File(filename)\n",
    "        self.size = len(self._hdl[\"photon_tables\"].keys())\n",
    "        \n",
    "        self.start = start\n",
    "        self.end = min((self.size, end))\n",
    "\n",
    "        ds_groups = sorted(self._hdl[\"photon_tables\"].keys())\n",
    "        label_order = [\"distance\", \"energy\", \"dir_theta\", \"dir_phi\", \"pos_theta\", \"pos_phi\"]\n",
    "       \n",
    "        self.data = []\n",
    "        self.weights = []\n",
    "        self.labels = []\n",
    "\n",
    "        for i in range(self.start, self.end):\n",
    "            grp = ds_groups[i]\n",
    "            \n",
    "            data = self._hdl[\"photon_tables\"][grp][:]\n",
    "            pmt_encoding = torch.nn.functional.one_hot(torch.LongTensor(data[1] - 1), 16)\n",
    "\n",
    "            labels = torch.empty((data.shape[1], 16 + len(label_order)), dtype=torch.float64)\n",
    "            labels_d = dict(self._hdl[\"photon_tables\"][grp].attrs)\n",
    "            for i, label in enumerate(label_order):\n",
    "                labels[:, i] = labels_d[label]\n",
    "            \n",
    "            labels[:, len(label_order):] = pmt_encoding\n",
    "            self.data.append(torch.DoubleTensor(data[0]).to(device))\n",
    "            self.weights.append(torch.DoubleTensor(data[2]).to(device))\n",
    "            self.labels.append(labels.to(device))\n",
    "\n",
    "    def __len__(self):\n",
    "        return  self.end - self.start\n",
    "\n",
    "    def __getitem__(self, key):\n",
    "        return self.data[key], self.weights[key], self.labels[key]\n",
    "\n",
    "\n",
    "    \"\"\"\n",
    "    def __iter__(self):\n",
    "        worker_info = torch.utils.data.get_worker_info()\n",
    "        if worker_info is None:  # single-process data loading, return the full iterator\n",
    "            iter_start = self.start\n",
    "            iter_end = self.end\n",
    "        else:  # in a worker process\n",
    "            # split workload\n",
    "            per_worker = int(math.ceil((self.end - self.start) / float(worker_info.num_workers)))\n",
    "            worker_id = worker_info.id\n",
    "            iter_start = self.start + worker_id * per_worker\n",
    "            iter_end = min(iter_start + per_worker, self.end)\n",
    "\n",
    "        ds_groups = sorted(self._hdl[\"photon_tables\"].keys())\n",
    "        label_order = [\"distance\", \"energy\", \"dir_theta\", \"dir_phi\", \"pos_theta\", \"pos_phi\"]\n",
    "       \n",
    "        for i in range(iter_start, iter_end):\n",
    "            grp = ds_groups[i]\n",
    "            \n",
    "            data = self._hdl[\"photon_tables\"][grp][:]\n",
    "            pmt_encoding = torch.nn.functional.one_hot(torch.LongTensor(data[1] - 1), 16)\n",
    "\n",
    "            labels = torch.empty((data.shape[1], 16 + len(label_order)), dtype=torch.float64)\n",
    "            labels_d = dict(self._hdl[\"photon_tables\"][grp].attrs)\n",
    "            for i, label in enumerate(label_order):\n",
    "                labels[:, i] = labels_d[label]\n",
    "            \n",
    "            labels[:, len(label_order):] = pmt_encoding\n",
    "\n",
    "            yield torch.DoubleTensor(data[0]).to(device), torch.DoubleTensor(data[2]).to(device), labels.to(device)\n",
    "    \"\"\"\n",
    "    def __del__(self):\n",
    "        if hasattr(self, \"_hdl\"):\n",
    "            self._hdl.close()\n",
    "        \n",
    "\n",
    "def collate_fn(batch):\n",
    "    data = [item[0] for item in batch]\n",
    "    weight = [item[1] for item in batch]\n",
    "    labels = [item[2] for item in batch]\n",
    "    return [data, weight, labels]\n",
    "        "
   ]
  },
  {
   "cell_type": "code",
   "execution_count": 7,
   "metadata": {},
   "outputs": [],
   "source": [
    "ds = HDF5PhotonTable(\"../assets/photon_table.hd5\", 0, 500)\n",
    "\n",
    "split_len = int(np.ceil(0.7*len(ds)))\n",
    "\n",
    "train_dataset, test_dataset = random_split(ds, [split_len, len(ds)-split_len])\n",
    "\n",
    "train_loader = DataLoader(train_dataset, batch_size=20, collate_fn=collate_fn)\n",
    "test_loader= DataLoader(test_dataset, batch_size=20, collate_fn=collate_fn)\n"
   ]
  },
  {
   "cell_type": "code",
   "execution_count": 8,
   "metadata": {},
   "outputs": [
    {
     "ename": "ValueError",
     "evalue": "too many values to unpack (expected 2)",
     "output_type": "error",
     "traceback": [
      "\u001b[0;31m---------------------------------------------------------------------------\u001b[0m",
      "\u001b[0;31mValueError\u001b[0m                                Traceback (most recent call last)",
      "Cell \u001b[0;32mIn [8], line 22\u001b[0m\n\u001b[1;32m     18\u001b[0m loss \u001b[39m/\u001b[39m\u001b[39m=\u001b[39m \u001b[39mlen\u001b[39m(train_loader)\n\u001b[1;32m     21\u001b[0m loss_test \u001b[39m=\u001b[39m \u001b[39m0\u001b[39m\n\u001b[0;32m---> 22\u001b[0m \u001b[39mfor\u001b[39;00m (times, labels) \u001b[39min\u001b[39;00m test_loader:\n\u001b[1;32m     23\u001b[0m     times \u001b[39m=\u001b[39m torch\u001b[39m.\u001b[39mconcat(times)\n\u001b[1;32m     24\u001b[0m     labels \u001b[39m=\u001b[39m torch\u001b[39m.\u001b[39mconcat(labels)\n",
      "\u001b[0;31mValueError\u001b[0m: too many values to unpack (expected 2)"
     ]
    }
   ],
   "source": [
    "pdf = jammy_flows.pdf(\"e1\", \"gggg\", conditional_input_dim=16+6).to(device)\n",
    "optim = Adam(pdf.parameters(), lr=0.005)\n",
    "\n",
    "for epoch in range(20):\n",
    "    loss = 0\n",
    "    for (times, weights, labels) in train_loader:\n",
    "        optim.zero_grad()\n",
    "\n",
    "        times = torch.concat(times)\n",
    "        labels = torch.concat(labels)\n",
    "        weights = torch.concat(weights)\n",
    "\n",
    "        log_pdf, _, _ = pdf(times[:, np.newaxis], conditional_input=labels) \n",
    "        neg_log_loss = (-log_pdf * weights).mean()\n",
    "        neg_log_loss.backward()\n",
    "        optim.step()\n",
    "        loss += neg_log_loss.detach()\n",
    "    loss /= len(train_loader)\n",
    "    \n",
    "\n",
    "    loss_test = 0\n",
    "    for (times, weights, labels) in test_loader:\n",
    "        times = torch.concat(times)\n",
    "        labels = torch.concat(labels)\n",
    "        weights = torch.concat(weights)\n",
    "\n",
    "        log_pdf, _, _ = pdf(times[:, np.newaxis], conditional_input=labels)\n",
    "        loss_test += (-log_pdf * weights).mean()\n",
    "    \n",
    "    loss_test /= len(test_loader)\n",
    "\n",
    "    \n",
    "    print(f\"Epoch: {epoch:d}  Loss Train: {loss:.2f}  Loss Test: {loss_test:.2f}\")\n",
    "\n"
   ]
  },
  {
   "cell_type": "code",
   "execution_count": 20,
   "metadata": {},
   "outputs": [],
   "source": [
    "for test_times, test_labels in iter(test_dataset):\n",
    "    if test_times.shape[0] > 40:\n",
    "        mask = test_labels[:, 16] == 1\n",
    "        logpdf, _, _ = pdf(test_times[:, np.newaxis], conditional_input=test_labels)\n",
    "        plt.scatter(test_times[mask].detach().cpu(), np.exp(logpdf[mask].detach().cpu()))\n",
    "        sns.histplot(test_times[mask].detach().cpu(), stat=\"density\")\n",
    "        break\n",
    "\n",
    "\n"
   ]
  },
  {
   "cell_type": "code",
   "execution_count": 10,
   "metadata": {},
   "outputs": [],
   "source": [
    "test_times, test_labels = next(iter(test_dataset))\n",
    "\n",
    "logpdf, _, _ = pdf(test_times[:, np.newaxis], conditional_input=test_labels)\n"
   ]
  },
  {
   "cell_type": "code",
   "execution_count": 13,
   "metadata": {},
   "outputs": [
    {
     "data": {
      "text/plain": [
       "tensor([176.8423, 178.5658], device='cuda:0', dtype=torch.float64)"
      ]
     },
     "execution_count": 13,
     "metadata": {},
     "output_type": "execute_result"
    }
   ],
   "source": [
    "test_times"
   ]
  },
  {
   "cell_type": "code",
   "execution_count": 11,
   "metadata": {},
   "outputs": [],
   "source": []
  },
  {
   "cell_type": "code",
   "execution_count": 12,
   "metadata": {},
   "outputs": [
    {
     "data": {
      "text/plain": [
       "<AxesSubplot: >"
      ]
     },
     "execution_count": 12,
     "metadata": {},
     "output_type": "execute_result"
    },
    {
     "data": {
      "image/png": "[encoded data removed]",
      "text/plain": [
       "<Figure size 640x480 with 1 Axes>"
      ]
     },
     "metadata": {},
     "output_type": "display_data"
    }
   ],
   "source": [
    "plt.scatter(test_times[mask].detach().cpu(), np.exp(logpdf[mask].detach().cpu()))\n",
    "sns.histplot(test_times[mask].detach().cpu(), stat=\"density\")"
   ]
  },
  {
   "cell_type": "code",
   "execution_count": 29,
   "metadata": {},
   "outputs": [
    {
     "data": {
      "text/plain": [
       "<AxesSubplot:ylabel='Density'>"
      ]
     },
     "execution_count": 29,
     "metadata": {},
     "output_type": "execute_result"
    },
    {
     "data": {
      "image/png": "[encoded data removed]",
      "text/plain": [
       "<Figure size 432x288 with 1 Axes>"
      ]
     },
     "metadata": {
      "needs_background": "light"
     },
     "output_type": "display_data"
    }
   ],
   "source": [
    "plt.scatter(test_per_pmt[:].detach().cpu(), np.exp(logpdf.detach().cpu()))\n",
    "sns.histplot(test_per_pmt[:].detach().cpu(), stat=\"density\")"
   ]
  },
  {
   "cell_type": "code",
   "execution_count": 34,
   "metadata": {},
   "outputs": [
    {
     "ename": "ValueError",
     "evalue": "Shape of passed values is (2, 5126), indices imply (2, 2)",
     "output_type": "error",
     "traceback": [
      "\u001b[0;31m---------------------------------------------------------------------------\u001b[0m",
      "\u001b[0;31mValueError\u001b[0m                                Traceback (most recent call last)",
      "\u001b[1;32m/home/chrhck/.julia/dev/NeutrinoTelescopes/notebooks/fit_normalizing_flow.ipynb Cell 4\u001b[0m in \u001b[0;36m<cell line: 1>\u001b[0;34m()\u001b[0m\n\u001b[0;32m----> <a href='vscode-notebook-cell:/home/chrhck/.julia/dev/NeutrinoTelescopes/notebooks/fit_normalizing_flow.ipynb#ch0000002?line=0'>1</a>\u001b[0m labels, features \u001b[39m=\u001b[39m \u001b[39mnext\u001b[39;49m(\u001b[39miter\u001b[39;49m(dl))\n",
      "File \u001b[0;32m~/.local/lib/python3.10/site-packages/torch/utils/data/dataloader.py:681\u001b[0m, in \u001b[0;36m_BaseDataLoaderIter.__next__\u001b[0;34m(self)\u001b[0m\n\u001b[1;32m    678\u001b[0m \u001b[39mif\u001b[39;00m \u001b[39mself\u001b[39m\u001b[39m.\u001b[39m_sampler_iter \u001b[39mis\u001b[39;00m \u001b[39mNone\u001b[39;00m:\n\u001b[1;32m    679\u001b[0m     \u001b[39m# TODO(https://github.com/pytorch/pytorch/issues/76750)\u001b[39;00m\n\u001b[1;32m    680\u001b[0m     \u001b[39mself\u001b[39m\u001b[39m.\u001b[39m_reset()  \u001b[39m# type: ignore[call-arg]\u001b[39;00m\n\u001b[0;32m--> 681\u001b[0m data \u001b[39m=\u001b[39m \u001b[39mself\u001b[39;49m\u001b[39m.\u001b[39;49m_next_data()\n\u001b[1;32m    682\u001b[0m \u001b[39mself\u001b[39m\u001b[39m.\u001b[39m_num_yielded \u001b[39m+\u001b[39m\u001b[39m=\u001b[39m \u001b[39m1\u001b[39m\n\u001b[1;32m    683\u001b[0m \u001b[39mif\u001b[39;00m \u001b[39mself\u001b[39m\u001b[39m.\u001b[39m_dataset_kind \u001b[39m==\u001b[39m _DatasetKind\u001b[39m.\u001b[39mIterable \u001b[39mand\u001b[39;00m \\\n\u001b[1;32m    684\u001b[0m         \u001b[39mself\u001b[39m\u001b[39m.\u001b[39m_IterableDataset_len_called \u001b[39mis\u001b[39;00m \u001b[39mnot\u001b[39;00m \u001b[39mNone\u001b[39;00m \u001b[39mand\u001b[39;00m \\\n\u001b[1;32m    685\u001b[0m         \u001b[39mself\u001b[39m\u001b[39m.\u001b[39m_num_yielded \u001b[39m>\u001b[39m \u001b[39mself\u001b[39m\u001b[39m.\u001b[39m_IterableDataset_len_called:\n",
      "File \u001b[0;32m~/.local/lib/python3.10/site-packages/torch/utils/data/dataloader.py:721\u001b[0m, in \u001b[0;36m_SingleProcessDataLoaderIter._next_data\u001b[0;34m(self)\u001b[0m\n\u001b[1;32m    719\u001b[0m \u001b[39mdef\u001b[39;00m \u001b[39m_next_data\u001b[39m(\u001b[39mself\u001b[39m):\n\u001b[1;32m    720\u001b[0m     index \u001b[39m=\u001b[39m \u001b[39mself\u001b[39m\u001b[39m.\u001b[39m_next_index()  \u001b[39m# may raise StopIteration\u001b[39;00m\n\u001b[0;32m--> 721\u001b[0m     data \u001b[39m=\u001b[39m \u001b[39mself\u001b[39;49m\u001b[39m.\u001b[39;49m_dataset_fetcher\u001b[39m.\u001b[39;49mfetch(index)  \u001b[39m# may raise StopIteration\u001b[39;00m\n\u001b[1;32m    722\u001b[0m     \u001b[39mif\u001b[39;00m \u001b[39mself\u001b[39m\u001b[39m.\u001b[39m_pin_memory:\n\u001b[1;32m    723\u001b[0m         data \u001b[39m=\u001b[39m _utils\u001b[39m.\u001b[39mpin_memory\u001b[39m.\u001b[39mpin_memory(data, \u001b[39mself\u001b[39m\u001b[39m.\u001b[39m_pin_memory_device)\n",
      "File \u001b[0;32m~/.local/lib/python3.10/site-packages/torch/utils/data/_utils/fetch.py:32\u001b[0m, in \u001b[0;36m_IterableDatasetFetcher.fetch\u001b[0;34m(self, possibly_batched_index)\u001b[0m\n\u001b[1;32m     30\u001b[0m \u001b[39mfor\u001b[39;00m _ \u001b[39min\u001b[39;00m possibly_batched_index:\n\u001b[1;32m     31\u001b[0m     \u001b[39mtry\u001b[39;00m:\n\u001b[0;32m---> 32\u001b[0m         data\u001b[39m.\u001b[39mappend(\u001b[39mnext\u001b[39;49m(\u001b[39mself\u001b[39;49m\u001b[39m.\u001b[39;49mdataset_iter))\n\u001b[1;32m     33\u001b[0m     \u001b[39mexcept\u001b[39;00m \u001b[39mStopIteration\u001b[39;00m:\n\u001b[1;32m     34\u001b[0m         \u001b[39mself\u001b[39m\u001b[39m.\u001b[39mended \u001b[39m=\u001b[39m \u001b[39mTrue\u001b[39;00m\n",
      "\u001b[1;32m/home/chrhck/.julia/dev/NeutrinoTelescopes/notebooks/fit_normalizing_flow.ipynb Cell 4\u001b[0m in \u001b[0;36mHDF5PhotonTable.__iter__\u001b[0;34m(self)\u001b[0m\n\u001b[1;32m     <a href='vscode-notebook-cell:/home/chrhck/.julia/dev/NeutrinoTelescopes/notebooks/fit_normalizing_flow.ipynb#ch0000002?line=27'>28</a>\u001b[0m grp \u001b[39m=\u001b[39m ds_groups[i]\n\u001b[1;32m     <a href='vscode-notebook-cell:/home/chrhck/.julia/dev/NeutrinoTelescopes/notebooks/fit_normalizing_flow.ipynb#ch0000002?line=28'>29</a>\u001b[0m labels \u001b[39m=\u001b[39m \u001b[39mdict\u001b[39m(\u001b[39mself\u001b[39m\u001b[39m.\u001b[39m_hdl[\u001b[39m\"\u001b[39m\u001b[39mphoton_tables\u001b[39m\u001b[39m\"\u001b[39m][grp]\u001b[39m.\u001b[39mattrs)\n\u001b[0;32m---> <a href='vscode-notebook-cell:/home/chrhck/.julia/dev/NeutrinoTelescopes/notebooks/fit_normalizing_flow.ipynb#ch0000002?line=30'>31</a>\u001b[0m df \u001b[39m=\u001b[39m pd\u001b[39m.\u001b[39;49mDataFrame(\u001b[39mself\u001b[39;49m\u001b[39m.\u001b[39;49m_hdl[\u001b[39m\"\u001b[39;49m\u001b[39mphoton_tables\u001b[39;49m\u001b[39m\"\u001b[39;49m][grp][:], columns\u001b[39m=\u001b[39;49m[\u001b[39m\"\u001b[39;49m\u001b[39mpmt_id\u001b[39;49m\u001b[39m\"\u001b[39;49m, \u001b[39m\"\u001b[39;49m\u001b[39mtime\u001b[39;49m\u001b[39m\"\u001b[39;49m])            \n\u001b[1;32m     <a href='vscode-notebook-cell:/home/chrhck/.julia/dev/NeutrinoTelescopes/notebooks/fit_normalizing_flow.ipynb#ch0000002?line=31'>32</a>\u001b[0m grpd \u001b[39m=\u001b[39m df\u001b[39m.\u001b[39mgroupby(\u001b[39m\"\u001b[39m\u001b[39mpmt_id\u001b[39m\u001b[39m\"\u001b[39m)\n\u001b[1;32m     <a href='vscode-notebook-cell:/home/chrhck/.julia/dev/NeutrinoTelescopes/notebooks/fit_normalizing_flow.ipynb#ch0000002?line=33'>34</a>\u001b[0m \u001b[39myield\u001b[39;00m labels, [grpd[i][\u001b[39m\"\u001b[39m\u001b[39mtime\u001b[39m\u001b[39m\"\u001b[39m]\u001b[39m.\u001b[39mvalues \u001b[39mif\u001b[39;00m i \u001b[39min\u001b[39;00m grpd \u001b[39melse\u001b[39;00m [] \u001b[39mfor\u001b[39;00m i \u001b[39min\u001b[39;00m \u001b[39mrange\u001b[39m(\u001b[39m1\u001b[39m, \u001b[39m17\u001b[39m) ]\n",
      "File \u001b[0;32m/usr/lib/python3/dist-packages/pandas/core/frame.py:672\u001b[0m, in \u001b[0;36mDataFrame.__init__\u001b[0;34m(self, data, index, columns, dtype, copy)\u001b[0m\n\u001b[1;32m    662\u001b[0m         mgr \u001b[39m=\u001b[39m dict_to_mgr(\n\u001b[1;32m    663\u001b[0m             \u001b[39m# error: Item \"ndarray\" of \"Union[ndarray, Series, Index]\" has no\u001b[39;00m\n\u001b[1;32m    664\u001b[0m             \u001b[39m# attribute \"name\"\u001b[39;00m\n\u001b[0;32m   (...)\u001b[0m\n\u001b[1;32m    669\u001b[0m             typ\u001b[39m=\u001b[39mmanager,\n\u001b[1;32m    670\u001b[0m         )\n\u001b[1;32m    671\u001b[0m     \u001b[39melse\u001b[39;00m:\n\u001b[0;32m--> 672\u001b[0m         mgr \u001b[39m=\u001b[39m ndarray_to_mgr(\n\u001b[1;32m    673\u001b[0m             data,\n\u001b[1;32m    674\u001b[0m             index,\n\u001b[1;32m    675\u001b[0m             columns,\n\u001b[1;32m    676\u001b[0m             dtype\u001b[39m=\u001b[39;49mdtype,\n\u001b[1;32m    677\u001b[0m             copy\u001b[39m=\u001b[39;49mcopy,\n\u001b[1;32m    678\u001b[0m             typ\u001b[39m=\u001b[39;49mmanager,\n\u001b[1;32m    679\u001b[0m         )\n\u001b[1;32m    681\u001b[0m \u001b[39m# For data is list-like, or Iterable (will consume into list)\u001b[39;00m\n\u001b[1;32m    682\u001b[0m \u001b[39melif\u001b[39;00m is_list_like(data):\n",
      "File \u001b[0;32m/usr/lib/python3/dist-packages/pandas/core/internals/construction.py:324\u001b[0m, in \u001b[0;36mndarray_to_mgr\u001b[0;34m(values, index, columns, dtype, copy, typ)\u001b[0m\n\u001b[1;32m    319\u001b[0m \u001b[39m# _prep_ndarray ensures that values.ndim == 2 at this point\u001b[39;00m\n\u001b[1;32m    320\u001b[0m index, columns \u001b[39m=\u001b[39m _get_axes(\n\u001b[1;32m    321\u001b[0m     values\u001b[39m.\u001b[39mshape[\u001b[39m0\u001b[39m], values\u001b[39m.\u001b[39mshape[\u001b[39m1\u001b[39m], index\u001b[39m=\u001b[39mindex, columns\u001b[39m=\u001b[39mcolumns\n\u001b[1;32m    322\u001b[0m )\n\u001b[0;32m--> 324\u001b[0m _check_values_indices_shape_match(values, index, columns)\n\u001b[1;32m    326\u001b[0m \u001b[39mif\u001b[39;00m typ \u001b[39m==\u001b[39m \u001b[39m\"\u001b[39m\u001b[39marray\u001b[39m\u001b[39m\"\u001b[39m:\n\u001b[1;32m    328\u001b[0m     \u001b[39mif\u001b[39;00m \u001b[39missubclass\u001b[39m(values\u001b[39m.\u001b[39mdtype\u001b[39m.\u001b[39mtype, \u001b[39mstr\u001b[39m):\n",
      "File \u001b[0;32m/usr/lib/python3/dist-packages/pandas/core/internals/construction.py:393\u001b[0m, in \u001b[0;36m_check_values_indices_shape_match\u001b[0;34m(values, index, columns)\u001b[0m\n\u001b[1;32m    391\u001b[0m passed \u001b[39m=\u001b[39m values\u001b[39m.\u001b[39mshape\n\u001b[1;32m    392\u001b[0m implied \u001b[39m=\u001b[39m (\u001b[39mlen\u001b[39m(index), \u001b[39mlen\u001b[39m(columns))\n\u001b[0;32m--> 393\u001b[0m \u001b[39mraise\u001b[39;00m \u001b[39mValueError\u001b[39;00m(\u001b[39mf\u001b[39m\u001b[39m\"\u001b[39m\u001b[39mShape of passed values is \u001b[39m\u001b[39m{\u001b[39;00mpassed\u001b[39m}\u001b[39;00m\u001b[39m, indices imply \u001b[39m\u001b[39m{\u001b[39;00mimplied\u001b[39m}\u001b[39;00m\u001b[39m\"\u001b[39m)\n",
      "\u001b[0;31mValueError\u001b[0m: Shape of passed values is (2, 5126), indices imply (2, 2)"
     ]
    }
   ],
   "source": [
    "labels, features = next(iter(dl))"
   ]
  },
  {
   "cell_type": "code",
   "execution_count": 9,
   "metadata": {},
   "outputs": [],
   "source": [
    "pdf=jammy_flows.pdf(\"e1\", \"gggg\")"
   ]
  },
  {
   "cell_type": "code",
   "execution_count": 8,
   "metadata": {},
   "outputs": [
    {
     "data": {
      "text/plain": [
       "<KeysViewHDF5 ['dataset_1', 'dataset_10', 'dataset_11', 'dataset_12', 'dataset_2', 'dataset_3', 'dataset_4', 'dataset_5', 'dataset_6', 'dataset_7', 'dataset_8', 'dataset_9']>"
      ]
     },
     "execution_count": 8,
     "metadata": {},
     "output_type": "execute_result"
    }
   ],
   "source": []
  },
  {
   "cell_type": "code",
   "execution_count": 9,
   "metadata": {},
   "outputs": [
    {
     "ename": "IndexError",
     "evalue": "Index (0) out of range for empty dimension",
     "output_type": "error",
     "traceback": [
      "\u001b[0;31m---------------------------------------------------------------------------\u001b[0m",
      "\u001b[0;31mIndexError\u001b[0m                                Traceback (most recent call last)",
      "Cell \u001b[0;32mIn [9], line 2\u001b[0m\n\u001b[1;32m      1\u001b[0m \u001b[39mwith\u001b[39;00m h5py\u001b[39m.\u001b[39mFile(\u001b[39m\"\u001b[39m\u001b[39m../assets/photon_table.hd5\u001b[39m\u001b[39m\"\u001b[39m) \u001b[39mas\u001b[39;00m hdl:\n\u001b[0;32m----> 2\u001b[0m     \u001b[39mprint\u001b[39m(hdl[\u001b[39m\"\u001b[39;49m\u001b[39mphoton_tables/dataset_2\u001b[39;49m\u001b[39m\"\u001b[39;49m][:, \u001b[39m0\u001b[39;49m])\n",
      "File \u001b[0;32mh5py/_objects.pyx:54\u001b[0m, in \u001b[0;36mh5py._objects.with_phil.wrapper\u001b[0;34m()\u001b[0m\n",
      "File \u001b[0;32mh5py/_objects.pyx:55\u001b[0m, in \u001b[0;36mh5py._objects.with_phil.wrapper\u001b[0;34m()\u001b[0m\n",
      "File \u001b[0;32m~/.local/lib/python3.10/site-packages/h5py/_hl/dataset.py:741\u001b[0m, in \u001b[0;36mDataset.__getitem__\u001b[0;34m(self, args, new_dtype)\u001b[0m\n\u001b[1;32m    739\u001b[0m \u001b[39mif\u001b[39;00m \u001b[39mself\u001b[39m\u001b[39m.\u001b[39m_fast_read_ok \u001b[39mand\u001b[39;00m (new_dtype \u001b[39mis\u001b[39;00m \u001b[39mNone\u001b[39;00m):\n\u001b[1;32m    740\u001b[0m     \u001b[39mtry\u001b[39;00m:\n\u001b[0;32m--> 741\u001b[0m         \u001b[39mreturn\u001b[39;00m \u001b[39mself\u001b[39;49m\u001b[39m.\u001b[39;49m_fast_reader\u001b[39m.\u001b[39;49mread(args)\n\u001b[1;32m    742\u001b[0m     \u001b[39mexcept\u001b[39;00m \u001b[39mTypeError\u001b[39;00m:\n\u001b[1;32m    743\u001b[0m         \u001b[39mpass\u001b[39;00m  \u001b[39m# Fall back to Python read pathway below\u001b[39;00m\n",
      "File \u001b[0;32mh5py/_selector.pyx:355\u001b[0m, in \u001b[0;36mh5py._selector.Reader.read\u001b[0;34m()\u001b[0m\n",
      "File \u001b[0;32mh5py/_selector.pyx:151\u001b[0m, in \u001b[0;36mh5py._selector.Selector.apply_args\u001b[0;34m()\u001b[0m\n",
      "\u001b[0;31mIndexError\u001b[0m: Index (0) out of range for empty dimension"
     ]
    }
   ],
   "source": [
    "with h5py.File(\"../assets/photon_table.hd5\") as hdl:\n",
    "    print(hdl[\"photon_tables/dataset_2\"][:, 0])"
   ]
  },
  {
   "cell_type": "code",
   "execution_count": null,
   "metadata": {},
   "outputs": [],
   "source": []
  }
 ],
 "metadata": {
  "kernelspec": {
   "display_name": "Python 3.10.4 64-bit",
   "language": "python",
   "name": "python3"
  },
  "language_info": {
   "codemirror_mode": {
    "name": "ipython",
    "version": 3
   },
   "file_extension": ".py",
   "mimetype": "text/x-python",
   "name": "python",
   "nbconvert_exporter": "python",
   "pygments_lexer": "ipython3",
   "version": "3.10.4"
  },
  "orig_nbformat": 4,
  "vscode": {
   "interpreter": {
    "hash": "916dbcbb3f70747c44a77c7bcd40155683ae19c65e1c03b4aa3499c5328201f1"
   }
  }
 },
 "nbformat": 4,
 "nbformat_minor": 2
}
